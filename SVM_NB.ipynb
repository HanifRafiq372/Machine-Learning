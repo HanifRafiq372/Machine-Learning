{
  "nbformat": 4,
  "nbformat_minor": 0,
  "metadata": {
    "colab": {
      "provenance": [],
      "authorship_tag": "ABX9TyNGNJNhhjm6+lcrU/XLKp2z",
      "include_colab_link": true
    },
    "kernelspec": {
      "name": "python3",
      "display_name": "Python 3"
    },
    "language_info": {
      "name": "python"
    }
  },
  "cells": [
    {
      "cell_type": "markdown",
      "metadata": {
        "id": "view-in-github",
        "colab_type": "text"
      },
      "source": [
        "<a href=\"https://colab.research.google.com/github/HanifRafiq372/Machine-Learning/blob/main/SVM_NB.ipynb\" target=\"_parent\"><img src=\"https://colab.research.google.com/assets/colab-badge.svg\" alt=\"Open In Colab\"/></a>"
      ]
    },
    {
      "cell_type": "code",
      "execution_count": null,
      "metadata": {
        "id": "oUSr2Qcx4Kc4"
      },
      "outputs": [],
      "source": [
        "import pandas as pd\n",
        "import seaborn as sns\n",
        "import matplotlib.pyplot as plt\n",
        "from sklearn import preprocessing"
      ]
    },
    {
      "cell_type": "code",
      "source": [
        "file_path = '/content/CTU-IoT-Malware-Capture-1-1conn.log.labeled.csv'\n",
        "original_df = pd.read_csv(file_path, delimiter='|')"
      ],
      "metadata": {
        "id": "QOa0CXDC4WuN"
      },
      "execution_count": null,
      "outputs": []
    },
    {
      "cell_type": "code",
      "source": [
        "random_sample_df = original_df.sample(n=200000, replace=True, random_state=42)\n",
        "\n",
        "# Create a copy of the randomly sampled DataFrame to avoid modifying the original data.\n",
        "df = random_sample_df.copy()\n",
        "\n"
      ],
      "metadata": {
        "id": "dzMUEiQq5mq0"
      },
      "execution_count": null,
      "outputs": []
    },
    {
      "cell_type": "code",
      "source": [
        "file_path = '/content/CTU-IoT-Malware-Capture-1-1conn.log.labeled.csv'\n",
        "original_df = pd.read_csv(file_path, delimiter='|')\n",
        "df = original_df.copy()"
      ],
      "metadata": {
        "id": "vSZHUWRW5pdQ"
      },
      "execution_count": null,
      "outputs": []
    },
    {
      "cell_type": "code",
      "source": [
        "df_benign = df[df['label'] == 'Benign']\n",
        "df_malicious = df[df['label'] == 'Malicious']\n",
        "#\n",
        "# # Sample 50% of data from each class\n",
        "frac_benign = df_benign.sample(n=20000, replace=True, random_state=42)\n",
        "frac_malicious = df_malicious.sample(n=20000, replace=True, random_state=42)\n",
        "#\n",
        "# # Concatenate the two DataFrames\n",
        "df_balanced = pd.concat([frac_benign, frac_malicious])\n",
        "#\n",
        "# # Shuffle the rows of the resulting DataFrame\n",
        "df_balanced = df_balanced.sample(frac=1, random_state=42).reset_index(drop=True)\n",
        "#\n",
        "# # Print the counts of each class in the balanced DataFrame\n",
        "df = df_balanced\n",
        "print(df['label'].value_counts())\n",
        "#\n",
        "#"
      ],
      "metadata": {
        "colab": {
          "base_uri": "https://localhost:8080/"
        },
        "id": "np6kfShm7ktc",
        "outputId": "8821d944-dfe8-4f36-90d5-8ae98d9a7d60"
      },
      "execution_count": null,
      "outputs": [
        {
          "output_type": "stream",
          "name": "stdout",
          "text": [
            "label\n",
            "Malicious    20000\n",
            "Benign       20000\n",
            "Name: count, dtype: int64\n"
          ]
        }
      ]
    },
    {
      "cell_type": "code",
      "source": [
        "print(df.head)"
      ],
      "metadata": {
        "colab": {
          "base_uri": "https://localhost:8080/"
        },
        "id": "f9tM0_3n8NaL",
        "outputId": "3ba79ab5-9c19-4230-e175-8ece83445dea"
      },
      "execution_count": null,
      "outputs": [
        {
          "output_type": "stream",
          "name": "stdout",
          "text": [
            "<bound method NDFrame.head of                  ts                 uid        id.orig_h  id.orig_p  \\\n",
            "0      1.525949e+09  CL1EtI1IRm66D7eZxg  192.168.100.103      50575   \n",
            "1      1.525886e+09  C9dDR42pJoU1b8k9Mh  192.168.100.103      43763   \n",
            "2      1.525912e+09   CIOoAVi6kaEQno9Jd  192.168.100.103      60820   \n",
            "3      1.525919e+09   C4HXt8keQPKlBZFLi  192.168.100.103      36772   \n",
            "4      1.525905e+09  CSTTve3W9AbRFY1nBh  192.168.100.103      38720   \n",
            "...             ...                 ...              ...        ...   \n",
            "39995  1.525972e+09  C02Fyd2TbiTK28u46k  192.168.100.103      43763   \n",
            "39996  1.525909e+09  CkJNEX2gkb1ShUqP62  192.168.100.103      35094   \n",
            "39997  1.525969e+09  C9YP904ha5oKiiZea7  192.168.100.103      37519   \n",
            "39998  1.525890e+09  CCflfn4mE2xhp1Olqj  192.168.100.103      43763   \n",
            "39999  1.525984e+09  CI9ak91qH2547R7oyf  192.168.100.103      43763   \n",
            "\n",
            "             id.resp_h  id.resp_p proto service  duration orig_bytes  ...  \\\n",
            "0        76.55.137.180         23   tcp       -         -          -  ...   \n",
            "1        20.203.91.146      62332   udp       -         -          -  ...   \n",
            "2       98.124.160.191         23   tcp       -         -          -  ...   \n",
            "3        19.208.204.79      20401   tcp       -         -          -  ...   \n",
            "4       63.172.127.195       2323   tcp       -         -          -  ...   \n",
            "...                ...        ...   ...     ...       ...        ...  ...   \n",
            "39995      64.17.14.76      44400   udp       -         -          -  ...   \n",
            "39996    195.70.113.74      61377   tcp       -         -          -  ...   \n",
            "39997    112.184.1.190       2323   tcp       -  2.998791          0  ...   \n",
            "39998   169.60.181.216      59338   udp       -         -          -  ...   \n",
            "39999  255.111.143.252      16309   udp       -         -          -  ...   \n",
            "\n",
            "      local_resp missed_bytes history orig_pkts  orig_ip_bytes resp_pkts  \\\n",
            "0              -          0.0       S       1.0           60.0       0.0   \n",
            "1              -          0.0       D       1.0           40.0       0.0   \n",
            "2              -          0.0       S       1.0           60.0       0.0   \n",
            "3              -          0.0       S       1.0           60.0       0.0   \n",
            "4              -          0.0       S       1.0           60.0       0.0   \n",
            "...          ...          ...     ...       ...            ...       ...   \n",
            "39995          -          0.0       D       1.0           40.0       0.0   \n",
            "39996          -          0.0       S       1.0           60.0       0.0   \n",
            "39997          -          0.0       S       3.0          180.0       0.0   \n",
            "39998          -          0.0       D       1.0           40.0       0.0   \n",
            "39999          -          0.0       D       1.0           40.0       0.0   \n",
            "\n",
            "       resp_ip_bytes  tunnel_parents      label             detailed-label  \n",
            "0                0.0               -  Malicious  PartOfAHorizontalPortScan  \n",
            "1                0.0               -     Benign                          -  \n",
            "2                0.0               -  Malicious  PartOfAHorizontalPortScan  \n",
            "3                0.0               -     Benign                          -  \n",
            "4                0.0               -  Malicious  PartOfAHorizontalPortScan  \n",
            "...              ...             ...        ...                        ...  \n",
            "39995            0.0               -     Benign                          -  \n",
            "39996            0.0               -     Benign                          -  \n",
            "39997            0.0               -  Malicious  PartOfAHorizontalPortScan  \n",
            "39998            0.0               -     Benign                          -  \n",
            "39999            0.0               -     Benign                          -  \n",
            "\n",
            "[40000 rows x 23 columns]>\n"
          ]
        }
      ]
    },
    {
      "cell_type": "code",
      "source": [
        "#Replace hyphens ('-') with pandas' NA values for better handling of missing or undefined data.\n",
        "df.replace('-', pd.NA, inplace=True)\n",
        "\n",
        "print(df.head)"
      ],
      "metadata": {
        "colab": {
          "base_uri": "https://localhost:8080/"
        },
        "id": "qcA6rhI89JJe",
        "outputId": "65894151-90fc-4aac-d03a-824202f4fa4b"
      },
      "execution_count": null,
      "outputs": [
        {
          "output_type": "stream",
          "name": "stdout",
          "text": [
            "<bound method NDFrame.head of                  ts                 uid        id.orig_h  id.orig_p  \\\n",
            "0      1.525949e+09  CL1EtI1IRm66D7eZxg  192.168.100.103      50575   \n",
            "1      1.525886e+09  C9dDR42pJoU1b8k9Mh  192.168.100.103      43763   \n",
            "2      1.525912e+09   CIOoAVi6kaEQno9Jd  192.168.100.103      60820   \n",
            "3      1.525919e+09   C4HXt8keQPKlBZFLi  192.168.100.103      36772   \n",
            "4      1.525905e+09  CSTTve3W9AbRFY1nBh  192.168.100.103      38720   \n",
            "...             ...                 ...              ...        ...   \n",
            "39995  1.525972e+09  C02Fyd2TbiTK28u46k  192.168.100.103      43763   \n",
            "39996  1.525909e+09  CkJNEX2gkb1ShUqP62  192.168.100.103      35094   \n",
            "39997  1.525969e+09  C9YP904ha5oKiiZea7  192.168.100.103      37519   \n",
            "39998  1.525890e+09  CCflfn4mE2xhp1Olqj  192.168.100.103      43763   \n",
            "39999  1.525984e+09  CI9ak91qH2547R7oyf  192.168.100.103      43763   \n",
            "\n",
            "             id.resp_h  id.resp_p proto service  duration orig_bytes  ...  \\\n",
            "0        76.55.137.180         23   tcp     NaN       NaN        NaN  ...   \n",
            "1        20.203.91.146      62332   udp     NaN       NaN        NaN  ...   \n",
            "2       98.124.160.191         23   tcp     NaN       NaN        NaN  ...   \n",
            "3        19.208.204.79      20401   tcp     NaN       NaN        NaN  ...   \n",
            "4       63.172.127.195       2323   tcp     NaN       NaN        NaN  ...   \n",
            "...                ...        ...   ...     ...       ...        ...  ...   \n",
            "39995      64.17.14.76      44400   udp     NaN      <NA>       <NA>  ...   \n",
            "39996    195.70.113.74      61377   tcp     NaN      <NA>       <NA>  ...   \n",
            "39997    112.184.1.190       2323   tcp     NaN  2.998791          0  ...   \n",
            "39998   169.60.181.216      59338   udp     NaN      <NA>       <NA>  ...   \n",
            "39999  255.111.143.252      16309   udp     NaN      <NA>       <NA>  ...   \n",
            "\n",
            "      local_resp missed_bytes history orig_pkts  orig_ip_bytes resp_pkts  \\\n",
            "0            NaN          0.0       S       1.0           60.0       0.0   \n",
            "1            NaN          0.0       D       1.0           40.0       0.0   \n",
            "2            NaN          0.0       S       1.0           60.0       0.0   \n",
            "3            NaN          0.0       S       1.0           60.0       0.0   \n",
            "4            NaN          0.0       S       1.0           60.0       0.0   \n",
            "...          ...          ...     ...       ...            ...       ...   \n",
            "39995        NaN          0.0       D       1.0           40.0       0.0   \n",
            "39996        NaN          0.0       S       1.0           60.0       0.0   \n",
            "39997        NaN          0.0       S       3.0          180.0       0.0   \n",
            "39998        NaN          0.0       D       1.0           40.0       0.0   \n",
            "39999        NaN          0.0       D       1.0           40.0       0.0   \n",
            "\n",
            "       resp_ip_bytes  tunnel_parents      label             detailed-label  \n",
            "0                0.0             NaN  Malicious  PartOfAHorizontalPortScan  \n",
            "1                0.0             NaN     Benign                       <NA>  \n",
            "2                0.0             NaN  Malicious  PartOfAHorizontalPortScan  \n",
            "3                0.0             NaN     Benign                       <NA>  \n",
            "4                0.0             NaN  Malicious  PartOfAHorizontalPortScan  \n",
            "...              ...             ...        ...                        ...  \n",
            "39995            0.0             NaN     Benign                       <NA>  \n",
            "39996            0.0             NaN     Benign                       <NA>  \n",
            "39997            0.0             NaN  Malicious  PartOfAHorizontalPortScan  \n",
            "39998            0.0             NaN     Benign                       <NA>  \n",
            "39999            0.0             NaN     Benign                       <NA>  \n",
            "\n",
            "[40000 rows x 23 columns]>\n"
          ]
        }
      ]
    },
    {
      "cell_type": "code",
      "source": [
        "null_values = df.isnull().sum()\n",
        "print(null_values)"
      ],
      "metadata": {
        "id": "bUcs1ZOj9nDm",
        "colab": {
          "base_uri": "https://localhost:8080/"
        },
        "outputId": "4063b524-740d-4f9f-fe48-a147bd2741aa"
      },
      "execution_count": null,
      "outputs": [
        {
          "output_type": "stream",
          "name": "stdout",
          "text": [
            "ts                    0\n",
            "uid                   0\n",
            "id.orig_h             0\n",
            "id.orig_p             0\n",
            "id.resp_h             0\n",
            "id.resp_p             0\n",
            "proto                 0\n",
            "service           39884\n",
            "duration          31627\n",
            "orig_bytes        31627\n",
            "resp_bytes        31627\n",
            "conn_state            0\n",
            "local_orig        40000\n",
            "local_resp        40000\n",
            "missed_bytes          0\n",
            "history            1124\n",
            "orig_pkts             0\n",
            "orig_ip_bytes         0\n",
            "resp_pkts             0\n",
            "resp_ip_bytes         0\n",
            "tunnel_parents    40000\n",
            "label                 0\n",
            "detailed-label    20000\n",
            "dtype: int64\n"
          ]
        }
      ]
    },
    {
      "cell_type": "code",
      "source": [
        "#Plotting null values using seaborn\n",
        "plt.figure(figsize=(10, 6))\n",
        "sns.barplot(x=null_values.index, y=null_values)\n",
        "plt.xticks(rotation=45, ha='right')\n",
        "plt.xlabel('Columns')\n",
        "plt.ylabel('Number of Null Values')\n",
        "plt.title('CTU-IoT-Malware-Capture-1-1conn.log.labeled.csv')\n",
        "plt.tight_layout()\n",
        "plt.show()"
      ],
      "metadata": {
        "colab": {
          "base_uri": "https://localhost:8080/",
          "height": 607
        },
        "id": "FK74o0PkbBiV",
        "outputId": "00734e73-52af-4b6a-eded-cc46fa995820"
      },
      "execution_count": null,
      "outputs": [
        {
          "output_type": "display_data",
          "data": {
            "text/plain": [
              "<Figure size 1000x600 with 1 Axes>"
            ],
            "image/png": "[encoded data removed]"
          },
          "metadata": {}
        }
      ]
    },
    {
      "cell_type": "code",
      "source": [
        "# Generate a heatmap of null values\n",
        "plt.figure(figsize=(12, 8))\n",
        "sns.heatmap(df.isnull(), cmap='viridis', cbar=False)\n",
        "plt.xlabel('Columns')\n",
        "plt.ylabel('Rows')\n",
        "plt.title('dataset.csv')\n",
        "plt.show()"
      ],
      "metadata": {
        "colab": {
          "base_uri": "https://localhost:8080/",
          "height": 808
        },
        "id": "sBNSzrX5dH2z",
        "outputId": "dcdfaafe-8534-4935-9902-78b8e5c5727f"
      },
      "execution_count": null,
      "outputs": [
        {
          "output_type": "display_data",
          "data": {
            "text/plain": [
              "<Figure size 1200x800 with 1 Axes>"
            ],
            "image/png": "[encoded data removed]"
          },
          "metadata": {}
        }
      ]
    },
    {
      "cell_type": "code",
      "source": [
        "null_values = df.isnull().sum()\n",
        "\n",
        "null_percentage = (null_values / len(df)) * 100\n",
        "\n",
        "columns_with_null = null_percentage[null_percentage > 0]\n",
        "\n",
        "print(\"Columns with Null Values (Percentage):\")\n",
        "print(columns_with_null)"
      ],
      "metadata": {
        "colab": {
          "base_uri": "https://localhost:8080/"
        },
        "id": "kAOf1Q10dhmr",
        "outputId": "6e544418-29ed-4149-b120-d945793f21bc"
      },
      "execution_count": null,
      "outputs": [
        {
          "output_type": "stream",
          "name": "stdout",
          "text": [
            "Columns with Null Values (Percentage):\n",
            "service            99.7100\n",
            "duration           79.0675\n",
            "orig_bytes         79.0675\n",
            "resp_bytes         79.0675\n",
            "local_orig        100.0000\n",
            "local_resp        100.0000\n",
            "history             2.8100\n",
            "tunnel_parents    100.0000\n",
            "detailed-label     50.0000\n",
            "dtype: float64\n"
          ]
        }
      ]
    },
    {
      "cell_type": "code",
      "source": [
        "# droping columns with null values\n",
        "df.drop(['service','orig_bytes','resp_bytes','local_orig','local_resp','tunnel_parents'],axis=1,inplace=True)"
      ],
      "metadata": {
        "id": "pXVKQTV-d0b7"
      },
      "execution_count": null,
      "outputs": []
    },
    {
      "cell_type": "code",
      "source": [
        "#Generate a heatmap of null values\n",
        "plt.figure(figsize=(12, 8))\n",
        "sns.heatmap(df.isnull(), cmap='viridis', cbar=False)\n",
        "plt.xlabel('Columns')\n",
        "plt.ylabel('Rows')\n",
        "plt.title('Heatmap of Null Values in Dataset.csv')\n",
        "plt.show()"
      ],
      "metadata": {
        "colab": {
          "base_uri": "https://localhost:8080/",
          "height": 799
        },
        "id": "q718fEcWd-Ue",
        "outputId": "e669fd08-8c00-4046-f068-93df3acecb6b"
      },
      "execution_count": null,
      "outputs": [
        {
          "output_type": "display_data",
          "data": {
            "text/plain": [
              "<Figure size 1200x800 with 1 Axes>"
            ],
            "image/png": "[encoded data removed]"
          },
          "metadata": {}
        }
      ]
    },
    {
      "cell_type": "code",
      "source": [
        "label_encoder = preprocessing.LabelEncoder()\n",
        "#label encode label\n",
        "df['label']= label_encoder.fit_transform(df['label'])\n",
        "df.head()\n",
        "df['duration'] = pd.to_numeric(df['duration'])"
      ],
      "metadata": {
        "id": "9g2RaqL2eBb-"
      },
      "execution_count": null,
      "outputs": []
    },
    {
      "cell_type": "code",
      "source": [
        "selected_columns = ['duration', 'label']\n",
        "\n",
        "# Create a DataFrame with only the selected columns\n",
        "selected_df = df[selected_columns]\n",
        "\n",
        "# Calculate the correlation matrix\n",
        "correlation_matrix = selected_df.corr()\n",
        "\n",
        "plt.figure(figsize=(10, 8))\n",
        "\n",
        "                                                                                                                                                                                                                                                                                                                                                                                                                                                                                                                                                                                                                                                                                                                                                                                                            # Plot a heatmap of the correlation matrix\n",
        "sns.heatmap(correlation_matrix, annot=True, cmap='viridis', fmt=\".2f\", linewidths=0.5)\n",
        "\n",
        "plt.title('Correlation Matrix: Duration and Label')\n",
        "\n",
        "plt.show()"
      ],
      "metadata": {
        "colab": {
          "base_uri": "https://localhost:8080/",
          "height": 699
        },
        "id": "fz1WUPs4eHyw",
        "outputId": "bd1bc4fa-8988-40b2-af09-694bf01aeac6"
      },
      "execution_count": null,
      "outputs": [
        {
          "output_type": "display_data",
          "data": {
            "text/plain": [
              "<Figure size 1000x800 with 2 Axes>"
            ],
            "image/png": "[encoded data removed]"
          },
          "metadata": {}
        }
      ]
    },
    {
      "cell_type": "code",
      "source": [
        "df.drop(['duration'],axis=1,inplace=True)"
      ],
      "metadata": {
        "id": "z87-482BeOz8"
      },
      "execution_count": null,
      "outputs": []
    },
    {
      "cell_type": "code",
      "source": [
        "df['history'].value_counts()"
      ],
      "metadata": {
        "colab": {
          "base_uri": "https://localhost:8080/"
        },
        "id": "sdfoG5yjeQvj",
        "outputId": "6e85a961-c1f4-4e9b-d04d-a323ce165be6"
      },
      "execution_count": null,
      "outputs": [
        {
          "output_type": "execute_result",
          "data": {
            "text/plain": [
              "history\n",
              "S             21230\n",
              "D             16472\n",
              "Dd              448\n",
              "Sr              245\n",
              "ShAdDafF        146\n",
              "ShAdDaFf        102\n",
              "ShADadfF         62\n",
              "ShADafF          24\n",
              "ShAdDaFr         17\n",
              "ShAdDafrR        15\n",
              "R                13\n",
              "ShADafr          13\n",
              "ShAdDfFr         11\n",
              "ShADdfFa         10\n",
              "ShADar           10\n",
              "ShAdDarfR        10\n",
              "ShAdDr            9\n",
              "ShAdDatFr         5\n",
              "ShADadfR          4\n",
              "^r                4\n",
              "ShAdtDaFr         3\n",
              "ShAr              2\n",
              "ShAF              2\n",
              "ShAdfFa           2\n",
              "ShAdDatFrR        2\n",
              "ShAdtDaFrR        2\n",
              "ShAfFa            1\n",
              "ShADadR           1\n",
              "ShAdDaFrR         1\n",
              "ShAdDafFr         1\n",
              "SaR               1\n",
              "ShAdDaF           1\n",
              "ShAdDaTfF         1\n",
              "SahAdDrfR         1\n",
              "ShA               1\n",
              "ShADFadfRR        1\n",
              "ShAFr             1\n",
              "ShADadRf          1\n",
              "ShAdDaTFf         1\n",
              "Name: count, dtype: int64"
            ]
          },
          "metadata": {},
          "execution_count": 17
        }
      ]
    },
    {
      "cell_type": "code",
      "source": [
        "#removing null values\n",
        "df.dropna(subset=['history'], inplace=True)"
      ],
      "metadata": {
        "id": "BkDBKfDgeVNU"
      },
      "execution_count": null,
      "outputs": []
    },
    {
      "cell_type": "code",
      "source": [
        "label_encoder = preprocessing.LabelEncoder()\n",
        "df['history']= label_encoder.fit_transform(df['history'])\n",
        "df['history'].unique()"
      ],
      "metadata": {
        "colab": {
          "base_uri": "https://localhost:8080/"
        },
        "id": "LQdw3rWHeYmd",
        "outputId": "19a831b6-6530-401f-8216-aa3a8dd90b35"
      },
      "execution_count": null,
      "outputs": [
        {
          "output_type": "execute_result",
          "data": {
            "text/plain": [
              "array([ 3,  0,  1, 37, 10, 24, 27, 19, 31, 12, 30,  6,  2, 34, 20, 15, 13,\n",
              "       14, 26, 32,  5,  4, 21, 29, 33, 35,  8, 16, 25, 28, 18, 23, 38, 11,\n",
              "       36,  7, 17,  9, 22])"
            ]
          },
          "metadata": {},
          "execution_count": 19
        }
      ]
    },
    {
      "cell_type": "code",
      "source": [
        "\n",
        "\n",
        "df['detailed-label'].value_counts()\n",
        "\n"
      ],
      "metadata": {
        "colab": {
          "base_uri": "https://localhost:8080/"
        },
        "id": "BTc6UP6SeZaR",
        "outputId": "81ba710e-34c3-43e8-8950-2edc9413fde0"
      },
      "execution_count": null,
      "outputs": [
        {
          "output_type": "execute_result",
          "data": {
            "text/plain": [
              "detailed-label\n",
              "PartOfAHorizontalPortScan    19999\n",
              "C&C                              1\n",
              "Name: count, dtype: int64"
            ]
          },
          "metadata": {},
          "execution_count": 20
        }
      ]
    },
    {
      "cell_type": "code",
      "source": [
        "df.drop(df[df['detailed-label'] == 'C&C'].index, inplace = True)\n",
        "df['detailed-label'].value_counts()"
      ],
      "metadata": {
        "colab": {
          "base_uri": "https://localhost:8080/"
        },
        "id": "hdKjAU6fecCL",
        "outputId": "18fccbee-ee9c-45f5-dac1-e187a1eaaf13"
      },
      "execution_count": null,
      "outputs": [
        {
          "output_type": "execute_result",
          "data": {
            "text/plain": [
              "detailed-label\n",
              "PartOfAHorizontalPortScan    19999\n",
              "Name: count, dtype: int64"
            ]
          },
          "metadata": {},
          "execution_count": 21
        }
      ]
    },
    {
      "cell_type": "code",
      "source": [
        "df['detailed-label'].fillna('n', inplace=True)"
      ],
      "metadata": {
        "id": "gA87DnZIejVN"
      },
      "execution_count": null,
      "outputs": []
    },
    {
      "cell_type": "code",
      "source": [
        "#onehot encode\n",
        "onehot = pd.get_dummies(df['detailed-label'])\n",
        "df = df.join(onehot)\n",
        "df.head()\n",
        "df.drop(['detailed-label'],axis=1,inplace=True)\n",
        "df.head()"
      ],
      "metadata": {
        "colab": {
          "base_uri": "https://localhost:8080/",
          "height": 422
        },
        "id": "wfy-150terVn",
        "outputId": "26891f9e-2ca5-403e-84ea-77117d00d81c"
      },
      "execution_count": null,
      "outputs": [
        {
          "output_type": "execute_result",
          "data": {
            "text/plain": [
              "             ts                 uid        id.orig_h  id.orig_p  \\\n",
              "0  1.525949e+09  CL1EtI1IRm66D7eZxg  192.168.100.103      50575   \n",
              "1  1.525886e+09  C9dDR42pJoU1b8k9Mh  192.168.100.103      43763   \n",
              "2  1.525912e+09   CIOoAVi6kaEQno9Jd  192.168.100.103      60820   \n",
              "3  1.525919e+09   C4HXt8keQPKlBZFLi  192.168.100.103      36772   \n",
              "4  1.525905e+09  CSTTve3W9AbRFY1nBh  192.168.100.103      38720   \n",
              "\n",
              "        id.resp_h  id.resp_p proto conn_state  missed_bytes  history  \\\n",
              "0   76.55.137.180         23   tcp         S0           0.0        3   \n",
              "1   20.203.91.146      62332   udp         S0           0.0        0   \n",
              "2  98.124.160.191         23   tcp         S0           0.0        3   \n",
              "3   19.208.204.79      20401   tcp         S0           0.0        3   \n",
              "4  63.172.127.195       2323   tcp         S0           0.0        3   \n",
              "\n",
              "   orig_pkts  orig_ip_bytes  resp_pkts  resp_ip_bytes  label  \\\n",
              "0        1.0           60.0        0.0            0.0      1   \n",
              "1        1.0           40.0        0.0            0.0      0   \n",
              "2        1.0           60.0        0.0            0.0      1   \n",
              "3        1.0           60.0        0.0            0.0      0   \n",
              "4        1.0           60.0        0.0            0.0      1   \n",
              "\n",
              "   PartOfAHorizontalPortScan      n  \n",
              "0                       True  False  \n",
              "1                      False   True  \n",
              "2                       True  False  \n",
              "3                      False   True  \n",
              "4                       True  False  "
            ],
            "text/html": [
              "\n",
              "  <div id=\"df-6e87f550-6b8a-46a3-8958-d556defc53de\" class=\"colab-df-container\">\n",
              "    <div>\n",
              "<style scoped>\n",
              "    .dataframe tbody tr th:only-of-type {\n",
              "        vertical-align: middle;\n",
              "    }\n",
              "\n",
              "    .dataframe tbody tr th {\n",
              "        vertical-align: top;\n",
              "    }\n",
              "\n",
              "    .dataframe thead th {\n",
              "        text-align: right;\n",
              "    }\n",
              "</style>\n",
              "<table border=\"1\" class=\"dataframe\">\n",
              "  <thead>\n",
              "    <tr style=\"text-align: right;\">\n",
              "      <th></th>\n",
              "      <th>ts</th>\n",
              "      <th>uid</th>\n",
              "      <th>id.orig_h</th>\n",
              "      <th>id.orig_p</th>\n",
              "      <th>id.resp_h</th>\n",
              "      <th>id.resp_p</th>\n",
              "      <th>proto</th>\n",
              "      <th>conn_state</th>\n",
              "      <th>missed_bytes</th>\n",
              "      <th>history</th>\n",
              "      <th>orig_pkts</th>\n",
              "      <th>orig_ip_bytes</th>\n",
              "      <th>resp_pkts</th>\n",
              "      <th>resp_ip_bytes</th>\n",
              "      <th>label</th>\n",
              "      <th>PartOfAHorizontalPortScan</th>\n",
              "      <th>n</th>\n",
              "    </tr>\n",
              "  </thead>\n",
              "  <tbody>\n",
              "    <tr>\n",
              "      <th>0</th>\n",
              "      <td>1.525949e+09</td>\n",
              "      <td>CL1EtI1IRm66D7eZxg</td>\n",
              "      <td>192.168.100.103</td>\n",
              "      <td>50575</td>\n",
              "      <td>76.55.137.180</td>\n",
              "      <td>23</td>\n",
              "      <td>tcp</td>\n",
              "      <td>S0</td>\n",
              "      <td>0.0</td>\n",
              "      <td>3</td>\n",
              "      <td>1.0</td>\n",
              "      <td>60.0</td>\n",
              "      <td>0.0</td>\n",
              "      <td>0.0</td>\n",
              "      <td>1</td>\n",
              "      <td>True</td>\n",
              "      <td>False</td>\n",
              "    </tr>\n",
              "    <tr>\n",
              "      <th>1</th>\n",
              "      <td>1.525886e+09</td>\n",
              "      <td>C9dDR42pJoU1b8k9Mh</td>\n",
              "      <td>192.168.100.103</td>\n",
              "      <td>43763</td>\n",
              "      <td>20.203.91.146</td>\n",
              "      <td>62332</td>\n",
              "      <td>udp</td>\n",
              "      <td>S0</td>\n",
              "      <td>0.0</td>\n",
              "      <td>0</td>\n",
              "      <td>1.0</td>\n",
              "      <td>40.0</td>\n",
              "      <td>0.0</td>\n",
              "      <td>0.0</td>\n",
              "      <td>0</td>\n",
              "      <td>False</td>\n",
              "      <td>True</td>\n",
              "    </tr>\n",
              "    <tr>\n",
              "      <th>2</th>\n",
              "      <td>1.525912e+09</td>\n",
              "      <td>CIOoAVi6kaEQno9Jd</td>\n",
              "      <td>192.168.100.103</td>\n",
              "      <td>60820</td>\n",
              "      <td>98.124.160.191</td>\n",
              "      <td>23</td>\n",
              "      <td>tcp</td>\n",
              "      <td>S0</td>\n",
              "      <td>0.0</td>\n",
              "      <td>3</td>\n",
              "      <td>1.0</td>\n",
              "      <td>60.0</td>\n",
              "      <td>0.0</td>\n",
              "      <td>0.0</td>\n",
              "      <td>1</td>\n",
              "      <td>True</td>\n",
              "      <td>False</td>\n",
              "    </tr>\n",
              "    <tr>\n",
              "      <th>3</th>\n",
              "      <td>1.525919e+09</td>\n",
              "      <td>C4HXt8keQPKlBZFLi</td>\n",
              "      <td>192.168.100.103</td>\n",
              "      <td>36772</td>\n",
              "      <td>19.208.204.79</td>\n",
              "      <td>20401</td>\n",
              "      <td>tcp</td>\n",
              "      <td>S0</td>\n",
              "      <td>0.0</td>\n",
              "      <td>3</td>\n",
              "      <td>1.0</td>\n",
              "      <td>60.0</td>\n",
              "      <td>0.0</td>\n",
              "      <td>0.0</td>\n",
              "      <td>0</td>\n",
              "      <td>False</td>\n",
              "      <td>True</td>\n",
              "    </tr>\n",
              "    <tr>\n",
              "      <th>4</th>\n",
              "      <td>1.525905e+09</td>\n",
              "      <td>CSTTve3W9AbRFY1nBh</td>\n",
              "      <td>192.168.100.103</td>\n",
              "      <td>38720</td>\n",
              "      <td>63.172.127.195</td>\n",
              "      <td>2323</td>\n",
              "      <td>tcp</td>\n",
              "      <td>S0</td>\n",
              "      <td>0.0</td>\n",
              "      <td>3</td>\n",
              "      <td>1.0</td>\n",
              "      <td>60.0</td>\n",
              "      <td>0.0</td>\n",
              "      <td>0.0</td>\n",
              "      <td>1</td>\n",
              "      <td>True</td>\n",
              "      <td>False</td>\n",
              "    </tr>\n",
              "  </tbody>\n",
              "</table>\n",
              "</div>\n",
              "    <div class=\"colab-df-buttons\">\n",
              "\n",
              "  <div class=\"colab-df-container\">\n",
              "    <button class=\"colab-df-convert\" onclick=\"convertToInteractive('df-6e87f550-6b8a-46a3-8958-d556defc53de')\"\n",
              "            title=\"Convert this dataframe to an interactive table.\"\n",
              "            style=\"display:none;\">\n",
              "\n",
              "  <svg xmlns=\"http://www.w3.org/2000/svg\" height=\"24px\" viewBox=\"0 -960 960 960\">\n",
              "    <path d=\"M120-120v-720h720v720H120Zm60-500h600v-160H180v160Zm220 220h160v-160H400v160Zm0 220h160v-160H400v160ZM180-400h160v-160H180v160Zm440 0h160v-160H620v160ZM180-180h160v-160H180v160Zm440 0h160v-160H620v160Z\"/>\n",
              "  </svg>\n",
              "    </button>\n",
              "\n",
              "  <style>\n",
              "    .colab-df-container {\n",
              "      display:flex;\n",
              "      gap: 12px;\n",
              "    }\n",
              "\n",
              "    .colab-df-convert {\n",
              "      background-color: #E8F0FE;\n",
              "      border: none;\n",
              "      border-radius: 50%;\n",
              "      cursor: pointer;\n",
              "      display: none;\n",
              "      fill: #1967D2;\n",
              "      height: 32px;\n",
              "      padding: 0 0 0 0;\n",
              "      width: 32px;\n",
              "    }\n",
              "\n",
              "    .colab-df-convert:hover {\n",
              "      background-color: #E2EBFA;\n",
              "      box-shadow: 0px 1px 2px rgba(60, 64, 67, 0.3), 0px 1px 3px 1px rgba(60, 64, 67, 0.15);\n",
              "      fill: #174EA6;\n",
              "    }\n",
              "\n",
              "    .colab-df-buttons div {\n",
              "      margin-bottom: 4px;\n",
              "    }\n",
              "\n",
              "    [theme=dark] .colab-df-convert {\n",
              "      background-color: #3B4455;\n",
              "      fill: #D2E3FC;\n",
              "    }\n",
              "\n",
              "    [theme=dark] .colab-df-convert:hover {\n",
              "      background-color: #434B5C;\n",
              "      box-shadow: 0px 1px 3px 1px rgba(0, 0, 0, 0.15);\n",
              "      filter: drop-shadow(0px 1px 2px rgba(0, 0, 0, 0.3));\n",
              "      fill: #FFFFFF;\n",
              "    }\n",
              "  </style>\n",
              "\n",
              "    <script>\n",
              "      const buttonEl =\n",
              "        document.querySelector('#df-6e87f550-6b8a-46a3-8958-d556defc53de button.colab-df-convert');\n",
              "      buttonEl.style.display =\n",
              "        google.colab.kernel.accessAllowed ? 'block' : 'none';\n",
              "\n",
              "      async function convertToInteractive(key) {\n",
              "        const element = document.querySelector('#df-6e87f550-6b8a-46a3-8958-d556defc53de');\n",
              "        const dataTable =\n",
              "          await google.colab.kernel.invokeFunction('convertToInteractive',\n",
              "                                                    [key], {});\n",
              "        if (!dataTable) return;\n",
              "\n",
              "        const docLinkHtml = 'Like what you see? Visit the ' +\n",
              "          '<a target=\"_blank\" href=https://colab.research.google.com/notebooks/data_table.ipynb>data table notebook</a>'\n",
              "          + ' to learn more about interactive tables.';\n",
              "        element.innerHTML = '';\n",
              "        dataTable['output_type'] = 'display_data';\n",
              "        await google.colab.output.renderOutput(dataTable, element);\n",
              "        const docLink = document.createElement('div');\n",
              "        docLink.innerHTML = docLinkHtml;\n",
              "        element.appendChild(docLink);\n",
              "      }\n",
              "    </script>\n",
              "  </div>\n",
              "\n",
              "\n",
              "<div id=\"df-66346f43-ce16-4d4f-a09d-1615961fe547\">\n",
              "  <button class=\"colab-df-quickchart\" onclick=\"quickchart('df-66346f43-ce16-4d4f-a09d-1615961fe547')\"\n",
              "            title=\"Suggest charts\"\n",
              "            style=\"display:none;\">\n",
              "\n",
              "<svg xmlns=\"http://www.w3.org/2000/svg\" height=\"24px\"viewBox=\"0 0 24 24\"\n",
              "     width=\"24px\">\n",
              "    <g>\n",
              "        <path d=\"M19 3H5c-1.1 0-2 .9-2 2v14c0 1.1.9 2 2 2h14c1.1 0 2-.9 2-2V5c0-1.1-.9-2-2-2zM9 17H7v-7h2v7zm4 0h-2V7h2v10zm4 0h-2v-4h2v4z\"/>\n",
              "    </g>\n",
              "</svg>\n",
              "  </button>\n",
              "\n",
              "<style>\n",
              "  .colab-df-quickchart {\n",
              "      --bg-color: #E8F0FE;\n",
              "      --fill-color: #1967D2;\n",
              "      --hover-bg-color: #E2EBFA;\n",
              "      --hover-fill-color: #174EA6;\n",
              "      --disabled-fill-color: #AAA;\n",
              "      --disabled-bg-color: #DDD;\n",
              "  }\n",
              "\n",
              "  [theme=dark] .colab-df-quickchart {\n",
              "      --bg-color: #3B4455;\n",
              "      --fill-color: #D2E3FC;\n",
              "      --hover-bg-color: #434B5C;\n",
              "      --hover-fill-color: #FFFFFF;\n",
              "      --disabled-bg-color: #3B4455;\n",
              "      --disabled-fill-color: #666;\n",
              "  }\n",
              "\n",
              "  .colab-df-quickchart {\n",
              "    background-color: var(--bg-color);\n",
              "    border: none;\n",
              "    border-radius: 50%;\n",
              "    cursor: pointer;\n",
              "    display: none;\n",
              "    fill: var(--fill-color);\n",
              "    height: 32px;\n",
              "    padding: 0;\n",
              "    width: 32px;\n",
              "  }\n",
              "\n",
              "  .colab-df-quickchart:hover {\n",
              "    background-color: var(--hover-bg-color);\n",
              "    box-shadow: 0 1px 2px rgba(60, 64, 67, 0.3), 0 1px 3px 1px rgba(60, 64, 67, 0.15);\n",
              "    fill: var(--button-hover-fill-color);\n",
              "  }\n",
              "\n",
              "  .colab-df-quickchart-complete:disabled,\n",
              "  .colab-df-quickchart-complete:disabled:hover {\n",
              "    background-color: var(--disabled-bg-color);\n",
              "    fill: var(--disabled-fill-color);\n",
              "    box-shadow: none;\n",
              "  }\n",
              "\n",
              "  .colab-df-spinner {\n",
              "    border: 2px solid var(--fill-color);\n",
              "    border-color: transparent;\n",
              "    border-bottom-color: var(--fill-color);\n",
              "    animation:\n",
              "      spin 1s steps(1) infinite;\n",
              "  }\n",
              "\n",
              "  @keyframes spin {\n",
              "    0% {\n",
              "      border-color: transparent;\n",
              "      border-bottom-color: var(--fill-color);\n",
              "      border-left-color: var(--fill-color);\n",
              "    }\n",
              "    20% {\n",
              "      border-color: transparent;\n",
              "      border-left-color: var(--fill-color);\n",
              "      border-top-color: var(--fill-color);\n",
              "    }\n",
              "    30% {\n",
              "      border-color: transparent;\n",
              "      border-left-color: var(--fill-color);\n",
              "      border-top-color: var(--fill-color);\n",
              "      border-right-color: var(--fill-color);\n",
              "    }\n",
              "    40% {\n",
              "      border-color: transparent;\n",
              "      border-right-color: var(--fill-color);\n",
              "      border-top-color: var(--fill-color);\n",
              "    }\n",
              "    60% {\n",
              "      border-color: transparent;\n",
              "      border-right-color: var(--fill-color);\n",
              "    }\n",
              "    80% {\n",
              "      border-color: transparent;\n",
              "      border-right-color: var(--fill-color);\n",
              "      border-bottom-color: var(--fill-color);\n",
              "    }\n",
              "    90% {\n",
              "      border-color: transparent;\n",
              "      border-bottom-color: var(--fill-color);\n",
              "    }\n",
              "  }\n",
              "</style>\n",
              "\n",
              "  <script>\n",
              "    async function quickchart(key) {\n",
              "      const quickchartButtonEl =\n",
              "        document.querySelector('#' + key + ' button');\n",
              "      quickchartButtonEl.disabled = true;  // To prevent multiple clicks.\n",
              "      quickchartButtonEl.classList.add('colab-df-spinner');\n",
              "      try {\n",
              "        const charts = await google.colab.kernel.invokeFunction(\n",
              "            'suggestCharts', [key], {});\n",
              "      } catch (error) {\n",
              "        console.error('Error during call to suggestCharts:', error);\n",
              "      }\n",
              "      quickchartButtonEl.classList.remove('colab-df-spinner');\n",
              "      quickchartButtonEl.classList.add('colab-df-quickchart-complete');\n",
              "    }\n",
              "    (() => {\n",
              "      let quickchartButtonEl =\n",
              "        document.querySelector('#df-66346f43-ce16-4d4f-a09d-1615961fe547 button');\n",
              "      quickchartButtonEl.style.display =\n",
              "        google.colab.kernel.accessAllowed ? 'block' : 'none';\n",
              "    })();\n",
              "  </script>\n",
              "</div>\n",
              "    </div>\n",
              "  </div>\n"
            ],
            "application/vnd.google.colaboratory.intrinsic+json": {
              "type": "dataframe",
              "variable_name": "df",
              "summary": "{\n  \"name\": \"df\",\n  \"rows\": 38875,\n  \"fields\": [\n    {\n      \"column\": \"ts\",\n      \"properties\": {\n        \"dtype\": \"number\",\n        \"std\": 37055.44374314629,\n        \"min\": 1525879832.044975,\n        \"max\": 1526007184.008758,\n        \"num_unique_values\": 36679,\n        \"samples\": [\n          1525909082.013782,\n          1525967246.009872,\n          1525924930.00275\n        ],\n        \"semantic_type\": \"\",\n        \"description\": \"\"\n      }\n    },\n    {\n      \"column\": \"uid\",\n      \"properties\": {\n        \"dtype\": \"string\",\n        \"num_unique_values\": 36679,\n        \"samples\": [\n          \"CjaCvs3Ii4Xd6degI8\",\n          \"C5Uzap1VT9ykRtmWy\",\n          \"Csc2iV2HlDwCiWhcX8\"\n        ],\n        \"semantic_type\": \"\",\n        \"description\": \"\"\n      }\n    },\n    {\n      \"column\": \"id.orig_h\",\n      \"properties\": {\n        \"dtype\": \"category\",\n        \"num_unique_values\": 12,\n        \"samples\": [\n          \"70.5.46.192\",\n          \"174.159.32.247\",\n          \"192.168.100.103\"\n        ],\n        \"semantic_type\": \"\",\n        \"description\": \"\"\n      }\n    },\n    {\n      \"column\": \"id.orig_p\",\n      \"properties\": {\n        \"dtype\": \"number\",\n        \"std\": 8114,\n        \"min\": 23,\n        \"max\": 60999,\n        \"num_unique_values\": 13755,\n        \"samples\": [\n          39308,\n          46992,\n          54893\n        ],\n        \"semantic_type\": \"\",\n        \"description\": \"\"\n      }\n    },\n    {\n      \"column\": \"id.resp_h\",\n      \"properties\": {\n        \"dtype\": \"string\",\n        \"num_unique_values\": 33857,\n        \"samples\": [\n          \"112.33.233.241\",\n          \"145.50.127.45\",\n          \"163.42.244.164\"\n        ],\n        \"semantic_type\": \"\",\n        \"description\": \"\"\n      }\n    },\n    {\n      \"column\": \"id.resp_p\",\n      \"properties\": {\n        \"dtype\": \"number\",\n        \"std\": 19815,\n        \"min\": 2,\n        \"max\": 65533,\n        \"num_unique_values\": 14988,\n        \"samples\": [\n          29400,\n          64904,\n          22437\n        ],\n        \"semantic_type\": \"\",\n        \"description\": \"\"\n      }\n    },\n    {\n      \"column\": \"proto\",\n      \"properties\": {\n        \"dtype\": \"category\",\n        \"num_unique_values\": 2,\n        \"samples\": [\n          \"udp\",\n          \"tcp\"\n        ],\n        \"semantic_type\": \"\",\n        \"description\": \"\"\n      }\n    },\n    {\n      \"column\": \"conn_state\",\n      \"properties\": {\n        \"dtype\": \"category\",\n        \"num_unique_values\": 9,\n        \"samples\": [\n          \"S2\",\n          \"SF\"\n        ],\n        \"semantic_type\": \"\",\n        \"description\": \"\"\n      }\n    },\n    {\n      \"column\": \"missed_bytes\",\n      \"properties\": {\n        \"dtype\": \"number\",\n        \"std\": 0.0,\n        \"min\": 0.0,\n        \"max\": 0.0,\n        \"num_unique_values\": 1,\n        \"samples\": [\n          0.0\n        ],\n        \"semantic_type\": \"\",\n        \"description\": \"\"\n      }\n    },\n    {\n      \"column\": \"history\",\n      \"properties\": {\n        \"dtype\": \"number\",\n        \"std\": 3,\n        \"min\": 0,\n        \"max\": 38,\n        \"num_unique_values\": 39,\n        \"samples\": [\n          11\n        ],\n        \"semantic_type\": \"\",\n        \"description\": \"\"\n      }\n    },\n    {\n      \"column\": \"orig_pkts\",\n      \"properties\": {\n        \"dtype\": \"number\",\n        \"std\": 2.32863461629393,\n        \"min\": 0.0,\n        \"max\": 60.0,\n        \"num_unique_values\": 44,\n        \"samples\": [\n          0.0\n        ],\n        \"semantic_type\": \"\",\n        \"description\": \"\"\n      }\n    },\n    {\n      \"column\": \"orig_ip_bytes\",\n      \"properties\": {\n        \"dtype\": \"number\",\n        \"std\": 123.34687683577765,\n        \"min\": 0.0,\n        \"max\": 2621.0,\n        \"num_unique_values\": 225,\n        \"samples\": [\n          1033.0\n        ],\n        \"semantic_type\": \"\",\n        \"description\": \"\"\n      }\n    },\n    {\n      \"column\": \"resp_pkts\",\n      \"properties\": {\n        \"dtype\": \"number\",\n        \"std\": 2.5714693132190867,\n        \"min\": 0.0,\n        \"max\": 75.0,\n        \"num_unique_values\": 50,\n        \"samples\": [\n          26.0\n        ],\n        \"semantic_type\": \"\",\n        \"description\": \"\"\n      }\n    },\n    {\n      \"column\": \"resp_ip_bytes\",\n      \"properties\": {\n        \"dtype\": \"number\",\n        \"std\": 167.38353914239244,\n        \"min\": 0.0,\n        \"max\": 4571.0,\n        \"num_unique_values\": 197,\n        \"samples\": [\n          1521.0\n        ],\n        \"semantic_type\": \"\",\n        \"description\": \"\"\n      }\n    },\n    {\n      \"column\": \"label\",\n      \"properties\": {\n        \"dtype\": \"number\",\n        \"std\": 0,\n        \"min\": 0,\n        \"max\": 1,\n        \"num_unique_values\": 2,\n        \"samples\": [\n          0\n        ],\n        \"semantic_type\": \"\",\n        \"description\": \"\"\n      }\n    },\n    {\n      \"column\": \"PartOfAHorizontalPortScan\",\n      \"properties\": {\n        \"dtype\": \"boolean\",\n        \"num_unique_values\": 2,\n        \"samples\": [\n          false\n        ],\n        \"semantic_type\": \"\",\n        \"description\": \"\"\n      }\n    },\n    {\n      \"column\": \"n\",\n      \"properties\": {\n        \"dtype\": \"boolean\",\n        \"num_unique_values\": 2,\n        \"samples\": [\n          true\n        ],\n        \"semantic_type\": \"\",\n        \"description\": \"\"\n      }\n    }\n  ]\n}"
            }
          },
          "metadata": {},
          "execution_count": 23
        }
      ]
    },
    {
      "cell_type": "code",
      "source": [
        "plt.figure(figsize=(12, 8))\n",
        "sns.heatmap(df.isnull(), cmap='viridis', cbar=False)\n",
        "plt.xlabel('Columns')\n",
        "plt.ylabel('Rows')\n",
        "plt.title('Heatmap of Null Values in Malware_Detect_Data.csv')\n",
        "plt.show()"
      ],
      "metadata": {
        "colab": {
          "base_uri": "https://localhost:8080/",
          "height": 890
        },
        "id": "8_4Kif4eetQj",
        "outputId": "39b38a15-b4fe-4938-9650-feb45144ecb0"
      },
      "execution_count": null,
      "outputs": [
        {
          "output_type": "display_data",
          "data": {
            "text/plain": [
              "<Figure size 1200x800 with 1 Axes>"
            ],
            "image/png": "[encoded data removed]"
          },
          "metadata": {}
        }
      ]
    },
    {
      "cell_type": "code",
      "source": [
        "#covert timestamp to numeric\n",
        "df['ts'] = pd.to_numeric(df['ts'])\n",
        "df['ts'].mean()"
      ],
      "metadata": {
        "colab": {
          "base_uri": "https://localhost:8080/"
        },
        "id": "8V1u9NkAeyND",
        "outputId": "b726aaf6-b992-44e3-e8fe-0e6dde198059"
      },
      "execution_count": null,
      "outputs": [
        {
          "output_type": "execute_result",
          "data": {
            "text/plain": [
              "1525943177.202645"
            ]
          },
          "metadata": {},
          "execution_count": 25
        }
      ]
    },
    {
      "cell_type": "code",
      "source": [
        "\n",
        "\n",
        "# types of timestamp\n",
        "df['uid'].value_counts()\n",
        "\n"
      ],
      "metadata": {
        "colab": {
          "base_uri": "https://localhost:8080/"
        },
        "id": "gfzLMgkSe1mB",
        "outputId": "380d2da9-7343-4f4c-d9f4-65fc343bd861"
      },
      "execution_count": null,
      "outputs": [
        {
          "output_type": "execute_result",
          "data": {
            "text/plain": [
              "uid\n",
              "CUJeR34f8hbWE8MoLi    3\n",
              "CpKjrh3mOKWf9bXrGc    3\n",
              "Cp3Jbb4uBFYZOPrWg     3\n",
              "CDkPwy3i7tNP3D8Z7f    3\n",
              "CR7YU13gFwinaJ9Wva    3\n",
              "                     ..\n",
              "CnVlWv4nhVesNVk4G3    1\n",
              "Cd7T1PkWYDDpSCq1d     1\n",
              "C1M7xq11pKKmByAQo1    1\n",
              "CRGT8g3BK22hT7dpOf    1\n",
              "CCflfn4mE2xhp1Olqj    1\n",
              "Name: count, Length: 36679, dtype: int64"
            ]
          },
          "metadata": {},
          "execution_count": 26
        }
      ]
    },
    {
      "cell_type": "code",
      "source": [
        "df['uid']= label_encoder.fit_transform(df['uid'])\n",
        "# types of timestamp\n",
        "df['uid'].value_counts()"
      ],
      "metadata": {
        "colab": {
          "base_uri": "https://localhost:8080/"
        },
        "id": "EltjTzjbe4PD",
        "outputId": "19c191a3-851d-4453-f6a1-930e264e64a9"
      },
      "execution_count": null,
      "outputs": [
        {
          "output_type": "execute_result",
          "data": {
            "text/plain": [
              "uid\n",
              "17925    3\n",
              "30498    3\n",
              "30346    3\n",
              "8186     3\n",
              "15991    3\n",
              "        ..\n",
              "29369    1\n",
              "23150    1\n",
              "788      1\n",
              "16077    1\n",
              "7532     1\n",
              "Name: count, Length: 36679, dtype: int64"
            ]
          },
          "metadata": {},
          "execution_count": 27
        }
      ]
    },
    {
      "cell_type": "code",
      "source": [
        "df['id.orig_h'].value_counts()"
      ],
      "metadata": {
        "colab": {
          "base_uri": "https://localhost:8080/"
        },
        "id": "0ZfY_Q6ne9Ys",
        "outputId": "03162f24-de7f-4679-d461-682077795cfc"
      },
      "execution_count": null,
      "outputs": [
        {
          "output_type": "execute_result",
          "data": {
            "text/plain": [
              "id.orig_h\n",
              "192.168.100.103    38862\n",
              "68.244.199.86          2\n",
              "70.4.148.25            2\n",
              "173.115.82.143         1\n",
              "108.103.113.161        1\n",
              "107.30.229.120         1\n",
              "173.122.135.151        1\n",
              "70.13.77.186           1\n",
              "173.122.109.200        1\n",
              "174.159.32.247         1\n",
              "70.5.46.192            1\n",
              "173.150.135.177        1\n",
              "Name: count, dtype: int64"
            ]
          },
          "metadata": {},
          "execution_count": 28
        }
      ]
    },
    {
      "cell_type": "code",
      "source": [
        "df['id.orig_h']= label_encoder.fit_transform(df['id.orig_h'])\n",
        "# types of timestamp\n",
        "df['id.orig_h'].value_counts()"
      ],
      "metadata": {
        "colab": {
          "base_uri": "https://localhost:8080/"
        },
        "id": "16aLSiaZe_GA",
        "outputId": "9c263000-5b2d-4074-c4e0-a49cd4821a9b"
      },
      "execution_count": null,
      "outputs": [
        {
          "output_type": "execute_result",
          "data": {
            "text/plain": [
              "id.orig_h\n",
              "7     38862\n",
              "8         2\n",
              "10        2\n",
              "2         1\n",
              "1         1\n",
              "0         1\n",
              "4         1\n",
              "9         1\n",
              "3         1\n",
              "6         1\n",
              "11        1\n",
              "5         1\n",
              "Name: count, dtype: int64"
            ]
          },
          "metadata": {},
          "execution_count": 29
        }
      ]
    },
    {
      "cell_type": "code",
      "source": [
        "df['id.resp_h'].value_counts()"
      ],
      "metadata": {
        "colab": {
          "base_uri": "https://localhost:8080/"
        },
        "id": "54Lkq8HzfQ7l",
        "outputId": "8690ad77-c4f8-47d6-d95b-da23dc987d1b"
      },
      "execution_count": null,
      "outputs": [
        {
          "output_type": "execute_result",
          "data": {
            "text/plain": [
              "id.resp_h\n",
              "147.231.100.5      249\n",
              "213.239.154.12      81\n",
              "37.187.104.44       74\n",
              "89.221.214.130      73\n",
              "67.208.21.230       23\n",
              "                  ... \n",
              "245.109.250.251      1\n",
              "249.108.152.86       1\n",
              "40.155.228.29        1\n",
              "62.47.202.30         1\n",
              "169.60.181.216       1\n",
              "Name: count, Length: 33857, dtype: int64"
            ]
          },
          "metadata": {},
          "execution_count": 30
        }
      ]
    },
    {
      "cell_type": "code",
      "source": [
        "\n",
        "\n",
        "df['id.resp_h']= label_encoder.fit_transform(df['id.resp_h'])\n",
        "df['id.resp_h'].value_counts()\n",
        "\n"
      ],
      "metadata": {
        "colab": {
          "base_uri": "https://localhost:8080/"
        },
        "id": "3FrvfmK2flQB",
        "outputId": "24e7f8cc-91bf-4c10-a3b4-b7ef5d4e99c9"
      },
      "execution_count": null,
      "outputs": [
        {
          "output_type": "execute_result",
          "data": {
            "text/plain": [
              "id.resp_h\n",
              "7819     249\n",
              "18688     81\n",
              "23792     74\n",
              "32077     73\n",
              "28561     23\n",
              "        ... \n",
              "21647      1\n",
              "21893      1\n",
              "24384      1\n",
              "27832      1\n",
              "11290      1\n",
              "Name: count, Length: 33857, dtype: int64"
            ]
          },
          "metadata": {},
          "execution_count": 31
        }
      ]
    },
    {
      "cell_type": "code",
      "source": [
        "df['id.resp_p'].value_counts()"
      ],
      "metadata": {
        "colab": {
          "base_uri": "https://localhost:8080/"
        },
        "id": "UtCNNpsEfn-C",
        "outputId": "aa738807-3d86-4a6f-a772-02568bd7cf08"
      },
      "execution_count": null,
      "outputs": [
        {
          "output_type": "execute_result",
          "data": {
            "text/plain": [
              "id.resp_p\n",
              "23       10089\n",
              "8080      5023\n",
              "2323      3170\n",
              "9527      1717\n",
              "123        477\n",
              "         ...  \n",
              "32942        1\n",
              "29116        1\n",
              "51753        1\n",
              "41610        1\n",
              "59338        1\n",
              "Name: count, Length: 14988, dtype: int64"
            ]
          },
          "metadata": {},
          "execution_count": 32
        }
      ]
    },
    {
      "cell_type": "code",
      "source": [
        "\n",
        "\n",
        "df['id.resp_p']= label_encoder.fit_transform(df['id.resp_p'])\n",
        "df['id.resp_p'].value_counts()\n",
        "\n"
      ],
      "metadata": {
        "colab": {
          "base_uri": "https://localhost:8080/"
        },
        "id": "VHfyAzTwfrhs",
        "outputId": "9a6cd1ff-8038-4832-ce45-0d52427cad94"
      },
      "execution_count": null,
      "outputs": [
        {
          "output_type": "execute_result",
          "data": {
            "text/plain": [
              "id.resp_p\n",
              "4        10089\n",
              "1831      5023\n",
              "506       3170\n",
              "2149      1717\n",
              "31         477\n",
              "         ...  \n",
              "7596         1\n",
              "6731         1\n",
              "11833        1\n",
              "9558         1\n",
              "13566        1\n",
              "Name: count, Length: 14988, dtype: int64"
            ]
          },
          "metadata": {},
          "execution_count": 33
        }
      ]
    },
    {
      "cell_type": "code",
      "source": [
        "\n",
        "\n",
        "df['id.orig_p'].value_counts()\n",
        "\n"
      ],
      "metadata": {
        "colab": {
          "base_uri": "https://localhost:8080/"
        },
        "id": "NODUxR7wftWY",
        "outputId": "cb3eb0c3-110b-45ed-9d94-39f45683d6fe"
      },
      "execution_count": null,
      "outputs": [
        {
          "output_type": "execute_result",
          "data": {
            "text/plain": [
              "id.orig_p\n",
              "43763    16442\n",
              "123        477\n",
              "34397        8\n",
              "41906        8\n",
              "60358        8\n",
              "         ...  \n",
              "45996        1\n",
              "42338        1\n",
              "43324        1\n",
              "35803        1\n",
              "37519        1\n",
              "Name: count, Length: 13755, dtype: int64"
            ]
          },
          "metadata": {},
          "execution_count": 34
        }
      ]
    },
    {
      "cell_type": "code",
      "source": [
        "\n",
        "\n",
        "df['id.orig_p']= label_encoder.fit_transform(df['id.orig_p'])\n",
        "df['id.orig_p'].value_counts()\n",
        "\n"
      ],
      "metadata": {
        "colab": {
          "base_uri": "https://localhost:8080/"
        },
        "id": "gFpuEkD7fvwq",
        "outputId": "81c0a7f9-724c-4456-fe91-a8ab81c967a9"
      },
      "execution_count": null,
      "outputs": [
        {
          "output_type": "execute_result",
          "data": {
            "text/plain": [
              "id.orig_p\n",
              "5355     16442\n",
              "1          477\n",
              "809          8\n",
              "4503         8\n",
              "13443        8\n",
              "         ...  \n",
              "6441         1\n",
              "4694         1\n",
              "5157         1\n",
              "1480         1\n",
              "2330         1\n",
              "Name: count, Length: 13755, dtype: int64"
            ]
          },
          "metadata": {},
          "execution_count": 35
        }
      ]
    },
    {
      "cell_type": "code",
      "source": [
        "\n",
        "\n",
        "df['proto'].value_counts()\n",
        "\n"
      ],
      "metadata": {
        "colab": {
          "base_uri": "https://localhost:8080/"
        },
        "id": "OwE6SBgRfyKI",
        "outputId": "f886bf80-9809-444c-aef1-83214cf7556c"
      },
      "execution_count": null,
      "outputs": [
        {
          "output_type": "execute_result",
          "data": {
            "text/plain": [
              "proto\n",
              "tcp    21956\n",
              "udp    16919\n",
              "Name: count, dtype: int64"
            ]
          },
          "metadata": {},
          "execution_count": 36
        }
      ]
    },
    {
      "cell_type": "code",
      "source": [
        "\n",
        "\n",
        "#one hot encode proto\n",
        "onehot = pd.get_dummies(df['proto'])\n",
        "df = df.join(onehot)\n",
        "df.head()\n",
        "df.drop(['proto'],axis=1,inplace=True)\n",
        "df.head()\n",
        "\n"
      ],
      "metadata": {
        "colab": {
          "base_uri": "https://localhost:8080/",
          "height": 226
        },
        "id": "zCASagTmf-RK",
        "outputId": "78024397-d2e7-4fd0-cfab-81f79ce087a4"
      },
      "execution_count": null,
      "outputs": [
        {
          "output_type": "execute_result",
          "data": {
            "text/plain": [
              "             ts    uid  id.orig_h  id.orig_p  id.resp_h  id.resp_p conn_state  \\\n",
              "0  1.525949e+09  12473          7       8666      30039          4         S0   \n",
              "1  1.525886e+09   5705          7       5355      16457      14259         S0   \n",
              "2  1.525912e+09  10929          7      13664      33533          4         S0   \n",
              "3  1.525919e+09   2563          7       1966      14687       4683         S0   \n",
              "4  1.525905e+09  16840          7       2915      27915        506         S0   \n",
              "\n",
              "   missed_bytes  history  orig_pkts  orig_ip_bytes  resp_pkts  resp_ip_bytes  \\\n",
              "0           0.0        3        1.0           60.0        0.0            0.0   \n",
              "1           0.0        0        1.0           40.0        0.0            0.0   \n",
              "2           0.0        3        1.0           60.0        0.0            0.0   \n",
              "3           0.0        3        1.0           60.0        0.0            0.0   \n",
              "4           0.0        3        1.0           60.0        0.0            0.0   \n",
              "\n",
              "   label  PartOfAHorizontalPortScan      n    tcp    udp  \n",
              "0      1                       True  False   True  False  \n",
              "1      0                      False   True  False   True  \n",
              "2      1                       True  False   True  False  \n",
              "3      0                      False   True   True  False  \n",
              "4      1                       True  False   True  False  "
            ],
            "text/html": [
              "\n",
              "  <div id=\"df-b15d2350-7b88-45dd-875b-19340e1a9962\" class=\"colab-df-container\">\n",
              "    <div>\n",
              "<style scoped>\n",
              "    .dataframe tbody tr th:only-of-type {\n",
              "        vertical-align: middle;\n",
              "    }\n",
              "\n",
              "    .dataframe tbody tr th {\n",
              "        vertical-align: top;\n",
              "    }\n",
              "\n",
              "    .dataframe thead th {\n",
              "        text-align: right;\n",
              "    }\n",
              "</style>\n",
              "<table border=\"1\" class=\"dataframe\">\n",
              "  <thead>\n",
              "    <tr style=\"text-align: right;\">\n",
              "      <th></th>\n",
              "      <th>ts</th>\n",
              "      <th>uid</th>\n",
              "      <th>id.orig_h</th>\n",
              "      <th>id.orig_p</th>\n",
              "      <th>id.resp_h</th>\n",
              "      <th>id.resp_p</th>\n",
              "      <th>conn_state</th>\n",
              "      <th>missed_bytes</th>\n",
              "      <th>history</th>\n",
              "      <th>orig_pkts</th>\n",
              "      <th>orig_ip_bytes</th>\n",
              "      <th>resp_pkts</th>\n",
              "      <th>resp_ip_bytes</th>\n",
              "      <th>label</th>\n",
              "      <th>PartOfAHorizontalPortScan</th>\n",
              "      <th>n</th>\n",
              "      <th>tcp</th>\n",
              "      <th>udp</th>\n",
              "    </tr>\n",
              "  </thead>\n",
              "  <tbody>\n",
              "    <tr>\n",
              "      <th>0</th>\n",
              "      <td>1.525949e+09</td>\n",
              "      <td>12473</td>\n",
              "      <td>7</td>\n",
              "      <td>8666</td>\n",
              "      <td>30039</td>\n",
              "      <td>4</td>\n",
              "      <td>S0</td>\n",
              "      <td>0.0</td>\n",
              "      <td>3</td>\n",
              "      <td>1.0</td>\n",
              "      <td>60.0</td>\n",
              "      <td>0.0</td>\n",
              "      <td>0.0</td>\n",
              "      <td>1</td>\n",
              "      <td>True</td>\n",
              "      <td>False</td>\n",
              "      <td>True</td>\n",
              "      <td>False</td>\n",
              "    </tr>\n",
              "    <tr>\n",
              "      <th>1</th>\n",
              "      <td>1.525886e+09</td>\n",
              "      <td>5705</td>\n",
              "      <td>7</td>\n",
              "      <td>5355</td>\n",
              "      <td>16457</td>\n",
              "      <td>14259</td>\n",
              "      <td>S0</td>\n",
              "      <td>0.0</td>\n",
              "      <td>0</td>\n",
              "      <td>1.0</td>\n",
              "      <td>40.0</td>\n",
              "      <td>0.0</td>\n",
              "      <td>0.0</td>\n",
              "      <td>0</td>\n",
              "      <td>False</td>\n",
              "      <td>True</td>\n",
              "      <td>False</td>\n",
              "      <td>True</td>\n",
              "    </tr>\n",
              "    <tr>\n",
              "      <th>2</th>\n",
              "      <td>1.525912e+09</td>\n",
              "      <td>10929</td>\n",
              "      <td>7</td>\n",
              "      <td>13664</td>\n",
              "      <td>33533</td>\n",
              "      <td>4</td>\n",
              "      <td>S0</td>\n",
              "      <td>0.0</td>\n",
              "      <td>3</td>\n",
              "      <td>1.0</td>\n",
              "      <td>60.0</td>\n",
              "      <td>0.0</td>\n",
              "      <td>0.0</td>\n",
              "      <td>1</td>\n",
              "      <td>True</td>\n",
              "      <td>False</td>\n",
              "      <td>True</td>\n",
              "      <td>False</td>\n",
              "    </tr>\n",
              "    <tr>\n",
              "      <th>3</th>\n",
              "      <td>1.525919e+09</td>\n",
              "      <td>2563</td>\n",
              "      <td>7</td>\n",
              "      <td>1966</td>\n",
              "      <td>14687</td>\n",
              "      <td>4683</td>\n",
              "      <td>S0</td>\n",
              "      <td>0.0</td>\n",
              "      <td>3</td>\n",
              "      <td>1.0</td>\n",
              "      <td>60.0</td>\n",
              "      <td>0.0</td>\n",
              "      <td>0.0</td>\n",
              "      <td>0</td>\n",
              "      <td>False</td>\n",
              "      <td>True</td>\n",
              "      <td>True</td>\n",
              "      <td>False</td>\n",
              "    </tr>\n",
              "    <tr>\n",
              "      <th>4</th>\n",
              "      <td>1.525905e+09</td>\n",
              "      <td>16840</td>\n",
              "      <td>7</td>\n",
              "      <td>2915</td>\n",
              "      <td>27915</td>\n",
              "      <td>506</td>\n",
              "      <td>S0</td>\n",
              "      <td>0.0</td>\n",
              "      <td>3</td>\n",
              "      <td>1.0</td>\n",
              "      <td>60.0</td>\n",
              "      <td>0.0</td>\n",
              "      <td>0.0</td>\n",
              "      <td>1</td>\n",
              "      <td>True</td>\n",
              "      <td>False</td>\n",
              "      <td>True</td>\n",
              "      <td>False</td>\n",
              "    </tr>\n",
              "  </tbody>\n",
              "</table>\n",
              "</div>\n",
              "    <div class=\"colab-df-buttons\">\n",
              "\n",
              "  <div class=\"colab-df-container\">\n",
              "    <button class=\"colab-df-convert\" onclick=\"convertToInteractive('df-b15d2350-7b88-45dd-875b-19340e1a9962')\"\n",
              "            title=\"Convert this dataframe to an interactive table.\"\n",
              "            style=\"display:none;\">\n",
              "\n",
              "  <svg xmlns=\"http://www.w3.org/2000/svg\" height=\"24px\" viewBox=\"0 -960 960 960\">\n",
              "    <path d=\"M120-120v-720h720v720H120Zm60-500h600v-160H180v160Zm220 220h160v-160H400v160Zm0 220h160v-160H400v160ZM180-400h160v-160H180v160Zm440 0h160v-160H620v160ZM180-180h160v-160H180v160Zm440 0h160v-160H620v160Z\"/>\n",
              "  </svg>\n",
              "    </button>\n",
              "\n",
              "  <style>\n",
              "    .colab-df-container {\n",
              "      display:flex;\n",
              "      gap: 12px;\n",
              "    }\n",
              "\n",
              "    .colab-df-convert {\n",
              "      background-color: #E8F0FE;\n",
              "      border: none;\n",
              "      border-radius: 50%;\n",
              "      cursor: pointer;\n",
              "      display: none;\n",
              "      fill: #1967D2;\n",
              "      height: 32px;\n",
              "      padding: 0 0 0 0;\n",
              "      width: 32px;\n",
              "    }\n",
              "\n",
              "    .colab-df-convert:hover {\n",
              "      background-color: #E2EBFA;\n",
              "      box-shadow: 0px 1px 2px rgba(60, 64, 67, 0.3), 0px 1px 3px 1px rgba(60, 64, 67, 0.15);\n",
              "      fill: #174EA6;\n",
              "    }\n",
              "\n",
              "    .colab-df-buttons div {\n",
              "      margin-bottom: 4px;\n",
              "    }\n",
              "\n",
              "    [theme=dark] .colab-df-convert {\n",
              "      background-color: #3B4455;\n",
              "      fill: #D2E3FC;\n",
              "    }\n",
              "\n",
              "    [theme=dark] .colab-df-convert:hover {\n",
              "      background-color: #434B5C;\n",
              "      box-shadow: 0px 1px 3px 1px rgba(0, 0, 0, 0.15);\n",
              "      filter: drop-shadow(0px 1px 2px rgba(0, 0, 0, 0.3));\n",
              "      fill: #FFFFFF;\n",
              "    }\n",
              "  </style>\n",
              "\n",
              "    <script>\n",
              "      const buttonEl =\n",
              "        document.querySelector('#df-b15d2350-7b88-45dd-875b-19340e1a9962 button.colab-df-convert');\n",
              "      buttonEl.style.display =\n",
              "        google.colab.kernel.accessAllowed ? 'block' : 'none';\n",
              "\n",
              "      async function convertToInteractive(key) {\n",
              "        const element = document.querySelector('#df-b15d2350-7b88-45dd-875b-19340e1a9962');\n",
              "        const dataTable =\n",
              "          await google.colab.kernel.invokeFunction('convertToInteractive',\n",
              "                                                    [key], {});\n",
              "        if (!dataTable) return;\n",
              "\n",
              "        const docLinkHtml = 'Like what you see? Visit the ' +\n",
              "          '<a target=\"_blank\" href=https://colab.research.google.com/notebooks/data_table.ipynb>data table notebook</a>'\n",
              "          + ' to learn more about interactive tables.';\n",
              "        element.innerHTML = '';\n",
              "        dataTable['output_type'] = 'display_data';\n",
              "        await google.colab.output.renderOutput(dataTable, element);\n",
              "        const docLink = document.createElement('div');\n",
              "        docLink.innerHTML = docLinkHtml;\n",
              "        element.appendChild(docLink);\n",
              "      }\n",
              "    </script>\n",
              "  </div>\n",
              "\n",
              "\n",
              "<div id=\"df-ff4dea53-0442-4f95-b7e8-4a50169b8cc0\">\n",
              "  <button class=\"colab-df-quickchart\" onclick=\"quickchart('df-ff4dea53-0442-4f95-b7e8-4a50169b8cc0')\"\n",
              "            title=\"Suggest charts\"\n",
              "            style=\"display:none;\">\n",
              "\n",
              "<svg xmlns=\"http://www.w3.org/2000/svg\" height=\"24px\"viewBox=\"0 0 24 24\"\n",
              "     width=\"24px\">\n",
              "    <g>\n",
              "        <path d=\"M19 3H5c-1.1 0-2 .9-2 2v14c0 1.1.9 2 2 2h14c1.1 0 2-.9 2-2V5c0-1.1-.9-2-2-2zM9 17H7v-7h2v7zm4 0h-2V7h2v10zm4 0h-2v-4h2v4z\"/>\n",
              "    </g>\n",
              "</svg>\n",
              "  </button>\n",
              "\n",
              "<style>\n",
              "  .colab-df-quickchart {\n",
              "      --bg-color: #E8F0FE;\n",
              "      --fill-color: #1967D2;\n",
              "      --hover-bg-color: #E2EBFA;\n",
              "      --hover-fill-color: #174EA6;\n",
              "      --disabled-fill-color: #AAA;\n",
              "      --disabled-bg-color: #DDD;\n",
              "  }\n",
              "\n",
              "  [theme=dark] .colab-df-quickchart {\n",
              "      --bg-color: #3B4455;\n",
              "      --fill-color: #D2E3FC;\n",
              "      --hover-bg-color: #434B5C;\n",
              "      --hover-fill-color: #FFFFFF;\n",
              "      --disabled-bg-color: #3B4455;\n",
              "      --disabled-fill-color: #666;\n",
              "  }\n",
              "\n",
              "  .colab-df-quickchart {\n",
              "    background-color: var(--bg-color);\n",
              "    border: none;\n",
              "    border-radius: 50%;\n",
              "    cursor: pointer;\n",
              "    display: none;\n",
              "    fill: var(--fill-color);\n",
              "    height: 32px;\n",
              "    padding: 0;\n",
              "    width: 32px;\n",
              "  }\n",
              "\n",
              "  .colab-df-quickchart:hover {\n",
              "    background-color: var(--hover-bg-color);\n",
              "    box-shadow: 0 1px 2px rgba(60, 64, 67, 0.3), 0 1px 3px 1px rgba(60, 64, 67, 0.15);\n",
              "    fill: var(--button-hover-fill-color);\n",
              "  }\n",
              "\n",
              "  .colab-df-quickchart-complete:disabled,\n",
              "  .colab-df-quickchart-complete:disabled:hover {\n",
              "    background-color: var(--disabled-bg-color);\n",
              "    fill: var(--disabled-fill-color);\n",
              "    box-shadow: none;\n",
              "  }\n",
              "\n",
              "  .colab-df-spinner {\n",
              "    border: 2px solid var(--fill-color);\n",
              "    border-color: transparent;\n",
              "    border-bottom-color: var(--fill-color);\n",
              "    animation:\n",
              "      spin 1s steps(1) infinite;\n",
              "  }\n",
              "\n",
              "  @keyframes spin {\n",
              "    0% {\n",
              "      border-color: transparent;\n",
              "      border-bottom-color: var(--fill-color);\n",
              "      border-left-color: var(--fill-color);\n",
              "    }\n",
              "    20% {\n",
              "      border-color: transparent;\n",
              "      border-left-color: var(--fill-color);\n",
              "      border-top-color: var(--fill-color);\n",
              "    }\n",
              "    30% {\n",
              "      border-color: transparent;\n",
              "      border-left-color: var(--fill-color);\n",
              "      border-top-color: var(--fill-color);\n",
              "      border-right-color: var(--fill-color);\n",
              "    }\n",
              "    40% {\n",
              "      border-color: transparent;\n",
              "      border-right-color: var(--fill-color);\n",
              "      border-top-color: var(--fill-color);\n",
              "    }\n",
              "    60% {\n",
              "      border-color: transparent;\n",
              "      border-right-color: var(--fill-color);\n",
              "    }\n",
              "    80% {\n",
              "      border-color: transparent;\n",
              "      border-right-color: var(--fill-color);\n",
              "      border-bottom-color: var(--fill-color);\n",
              "    }\n",
              "    90% {\n",
              "      border-color: transparent;\n",
              "      border-bottom-color: var(--fill-color);\n",
              "    }\n",
              "  }\n",
              "</style>\n",
              "\n",
              "  <script>\n",
              "    async function quickchart(key) {\n",
              "      const quickchartButtonEl =\n",
              "        document.querySelector('#' + key + ' button');\n",
              "      quickchartButtonEl.disabled = true;  // To prevent multiple clicks.\n",
              "      quickchartButtonEl.classList.add('colab-df-spinner');\n",
              "      try {\n",
              "        const charts = await google.colab.kernel.invokeFunction(\n",
              "            'suggestCharts', [key], {});\n",
              "      } catch (error) {\n",
              "        console.error('Error during call to suggestCharts:', error);\n",
              "      }\n",
              "      quickchartButtonEl.classList.remove('colab-df-spinner');\n",
              "      quickchartButtonEl.classList.add('colab-df-quickchart-complete');\n",
              "    }\n",
              "    (() => {\n",
              "      let quickchartButtonEl =\n",
              "        document.querySelector('#df-ff4dea53-0442-4f95-b7e8-4a50169b8cc0 button');\n",
              "      quickchartButtonEl.style.display =\n",
              "        google.colab.kernel.accessAllowed ? 'block' : 'none';\n",
              "    })();\n",
              "  </script>\n",
              "</div>\n",
              "    </div>\n",
              "  </div>\n"
            ],
            "application/vnd.google.colaboratory.intrinsic+json": {
              "type": "dataframe",
              "variable_name": "df",
              "summary": "{\n  \"name\": \"df\",\n  \"rows\": 38875,\n  \"fields\": [\n    {\n      \"column\": \"ts\",\n      \"properties\": {\n        \"dtype\": \"number\",\n        \"std\": 37055.44374314629,\n        \"min\": 1525879832.044975,\n        \"max\": 1526007184.008758,\n        \"num_unique_values\": 36679,\n        \"samples\": [\n          1525909082.013782,\n          1525967246.009872,\n          1525924930.00275\n        ],\n        \"semantic_type\": \"\",\n        \"description\": \"\"\n      }\n    },\n    {\n      \"column\": \"uid\",\n      \"properties\": {\n        \"dtype\": \"number\",\n        \"std\": 10587,\n        \"min\": 0,\n        \"max\": 36678,\n        \"num_unique_values\": 36679,\n        \"samples\": [\n          26993,\n          3317,\n          32342\n        ],\n        \"semantic_type\": \"\",\n        \"description\": \"\"\n      }\n    },\n    {\n      \"column\": \"id.orig_h\",\n      \"properties\": {\n        \"dtype\": \"number\",\n        \"std\": 0,\n        \"min\": 0,\n        \"max\": 11,\n        \"num_unique_values\": 12,\n        \"samples\": [\n          11,\n          6,\n          7\n        ],\n        \"semantic_type\": \"\",\n        \"description\": \"\"\n      }\n    },\n    {\n      \"column\": \"id.orig_p\",\n      \"properties\": {\n        \"dtype\": \"number\",\n        \"std\": 3160,\n        \"min\": 0,\n        \"max\": 13754,\n        \"num_unique_values\": 13755,\n        \"samples\": [\n          3206,\n          6945,\n          10778\n        ],\n        \"semantic_type\": \"\",\n        \"description\": \"\"\n      }\n    },\n    {\n      \"column\": \"id.resp_h\",\n      \"properties\": {\n        \"dtype\": \"number\",\n        \"std\": 9771,\n        \"min\": 0,\n        \"max\": 33856,\n        \"num_unique_values\": 33857,\n        \"samples\": [\n          2212,\n          7515,\n          10369\n        ],\n        \"semantic_type\": \"\",\n        \"description\": \"\"\n      }\n    },\n    {\n      \"column\": \"id.resp_p\",\n      \"properties\": {\n        \"dtype\": \"number\",\n        \"std\": 4541,\n        \"min\": 0,\n        \"max\": 14987,\n        \"num_unique_values\": 14988,\n        \"samples\": [\n          6805,\n          14852,\n          5148\n        ],\n        \"semantic_type\": \"\",\n        \"description\": \"\"\n      }\n    },\n    {\n      \"column\": \"conn_state\",\n      \"properties\": {\n        \"dtype\": \"category\",\n        \"num_unique_values\": 9,\n        \"samples\": [\n          \"S2\",\n          \"SF\",\n          \"RSTOS0\"\n        ],\n        \"semantic_type\": \"\",\n        \"description\": \"\"\n      }\n    },\n    {\n      \"column\": \"missed_bytes\",\n      \"properties\": {\n        \"dtype\": \"number\",\n        \"std\": 0.0,\n        \"min\": 0.0,\n        \"max\": 0.0,\n        \"num_unique_values\": 1,\n        \"samples\": [\n          0.0\n        ],\n        \"semantic_type\": \"\",\n        \"description\": \"\"\n      }\n    },\n    {\n      \"column\": \"history\",\n      \"properties\": {\n        \"dtype\": \"number\",\n        \"std\": 3,\n        \"min\": 0,\n        \"max\": 38,\n        \"num_unique_values\": 39,\n        \"samples\": [\n          11\n        ],\n        \"semantic_type\": \"\",\n        \"description\": \"\"\n      }\n    },\n    {\n      \"column\": \"orig_pkts\",\n      \"properties\": {\n        \"dtype\": \"number\",\n        \"std\": 2.32863461629393,\n        \"min\": 0.0,\n        \"max\": 60.0,\n        \"num_unique_values\": 44,\n        \"samples\": [\n          0.0\n        ],\n        \"semantic_type\": \"\",\n        \"description\": \"\"\n      }\n    },\n    {\n      \"column\": \"orig_ip_bytes\",\n      \"properties\": {\n        \"dtype\": \"number\",\n        \"std\": 123.34687683577765,\n        \"min\": 0.0,\n        \"max\": 2621.0,\n        \"num_unique_values\": 225,\n        \"samples\": [\n          1033.0\n        ],\n        \"semantic_type\": \"\",\n        \"description\": \"\"\n      }\n    },\n    {\n      \"column\": \"resp_pkts\",\n      \"properties\": {\n        \"dtype\": \"number\",\n        \"std\": 2.5714693132190867,\n        \"min\": 0.0,\n        \"max\": 75.0,\n        \"num_unique_values\": 50,\n        \"samples\": [\n          26.0\n        ],\n        \"semantic_type\": \"\",\n        \"description\": \"\"\n      }\n    },\n    {\n      \"column\": \"resp_ip_bytes\",\n      \"properties\": {\n        \"dtype\": \"number\",\n        \"std\": 167.38353914239244,\n        \"min\": 0.0,\n        \"max\": 4571.0,\n        \"num_unique_values\": 197,\n        \"samples\": [\n          1521.0\n        ],\n        \"semantic_type\": \"\",\n        \"description\": \"\"\n      }\n    },\n    {\n      \"column\": \"label\",\n      \"properties\": {\n        \"dtype\": \"number\",\n        \"std\": 0,\n        \"min\": 0,\n        \"max\": 1,\n        \"num_unique_values\": 2,\n        \"samples\": [\n          0\n        ],\n        \"semantic_type\": \"\",\n        \"description\": \"\"\n      }\n    },\n    {\n      \"column\": \"PartOfAHorizontalPortScan\",\n      \"properties\": {\n        \"dtype\": \"boolean\",\n        \"num_unique_values\": 2,\n        \"samples\": [\n          false\n        ],\n        \"semantic_type\": \"\",\n        \"description\": \"\"\n      }\n    },\n    {\n      \"column\": \"n\",\n      \"properties\": {\n        \"dtype\": \"boolean\",\n        \"num_unique_values\": 2,\n        \"samples\": [\n          true\n        ],\n        \"semantic_type\": \"\",\n        \"description\": \"\"\n      }\n    },\n    {\n      \"column\": \"tcp\",\n      \"properties\": {\n        \"dtype\": \"boolean\",\n        \"num_unique_values\": 2,\n        \"samples\": [\n          false\n        ],\n        \"semantic_type\": \"\",\n        \"description\": \"\"\n      }\n    },\n    {\n      \"column\": \"udp\",\n      \"properties\": {\n        \"dtype\": \"boolean\",\n        \"num_unique_values\": 2,\n        \"samples\": [\n          true\n        ],\n        \"semantic_type\": \"\",\n        \"description\": \"\"\n      }\n    }\n  ]\n}"
            }
          },
          "metadata": {},
          "execution_count": 37
        }
      ]
    },
    {
      "cell_type": "code",
      "source": [
        "\n",
        "\n",
        "df['conn_state'].value_counts()\n",
        "\n"
      ],
      "metadata": {
        "colab": {
          "base_uri": "https://localhost:8080/"
        },
        "id": "aJjuTey9gLvb",
        "outputId": "8a1c4ed7-f375-4f89-d4e4-f280cf425c36"
      },
      "execution_count": null,
      "outputs": [
        {
          "output_type": "execute_result",
          "data": {
            "text/plain": [
              "conn_state\n",
              "S0        37701\n",
              "SF          810\n",
              "REJ         245\n",
              "RSTR         91\n",
              "RSTOS0       14\n",
              "RSTO          6\n",
              "RSTRH         4\n",
              "S2            3\n",
              "S1            1\n",
              "Name: count, dtype: int64"
            ]
          },
          "metadata": {},
          "execution_count": 38
        }
      ]
    },
    {
      "cell_type": "code",
      "source": [
        "\n",
        "\n",
        "#label encode conn_state\n",
        "df['conn_state']= label_encoder.fit_transform(df['conn_state'])\n",
        "df['conn_state'].value_counts()\n",
        "\n"
      ],
      "metadata": {
        "colab": {
          "base_uri": "https://localhost:8080/"
        },
        "id": "1fWmw6DogSkK",
        "outputId": "78065252-d36d-4f6b-da59-496165cd4be2"
      },
      "execution_count": null,
      "outputs": [
        {
          "output_type": "execute_result",
          "data": {
            "text/plain": [
              "conn_state\n",
              "5    37701\n",
              "8      810\n",
              "0      245\n",
              "3       91\n",
              "2       14\n",
              "1        6\n",
              "4        4\n",
              "7        3\n",
              "6        1\n",
              "Name: count, dtype: int64"
            ]
          },
          "metadata": {},
          "execution_count": 39
        }
      ]
    },
    {
      "cell_type": "code",
      "source": [
        "df['missed_bytes'].value_counts()"
      ],
      "metadata": {
        "colab": {
          "base_uri": "https://localhost:8080/"
        },
        "id": "g7XUAEwqgYRe",
        "outputId": "b5b901d4-f073-45e2-b982-01fd8e813204"
      },
      "execution_count": null,
      "outputs": [
        {
          "output_type": "execute_result",
          "data": {
            "text/plain": [
              "missed_bytes\n",
              "0.0    38875\n",
              "Name: count, dtype: int64"
            ]
          },
          "metadata": {},
          "execution_count": 40
        }
      ]
    },
    {
      "cell_type": "code",
      "source": [
        "\n",
        "\n",
        "#drop column\n",
        "df.drop(['missed_bytes'],axis=1,inplace=True)\n",
        "\n"
      ],
      "metadata": {
        "id": "Cwxhz-x2gbQp"
      },
      "execution_count": null,
      "outputs": []
    },
    {
      "cell_type": "code",
      "source": [
        "\n",
        "\n",
        "df['orig_pkts'].value_counts()\n",
        "\n"
      ],
      "metadata": {
        "colab": {
          "base_uri": "https://localhost:8080/"
        },
        "id": "pwVeezelgdaM",
        "outputId": "4d3c0c86-2b5f-4c85-ad97-1232cc9ff19b"
      },
      "execution_count": null,
      "outputs": [
        {
          "output_type": "execute_result",
          "data": {
            "text/plain": [
              "orig_pkts\n",
              "1.0     31267\n",
              "3.0      7122\n",
              "5.0        94\n",
              "2.0        44\n",
              "8.0        27\n",
              "28.0       25\n",
              "15.0       24\n",
              "4.0        23\n",
              "11.0       23\n",
              "29.0       21\n",
              "45.0       17\n",
              "44.0       16\n",
              "7.0        15\n",
              "27.0       14\n",
              "26.0       14\n",
              "23.0       12\n",
              "21.0       10\n",
              "25.0       10\n",
              "12.0       10\n",
              "10.0       10\n",
              "24.0       10\n",
              "9.0        10\n",
              "30.0        6\n",
              "6.0         6\n",
              "31.0        6\n",
              "20.0        4\n",
              "0.0         4\n",
              "19.0        4\n",
              "37.0        3\n",
              "22.0        3\n",
              "46.0        3\n",
              "14.0        2\n",
              "33.0        2\n",
              "18.0        2\n",
              "16.0        2\n",
              "43.0        2\n",
              "34.0        1\n",
              "39.0        1\n",
              "60.0        1\n",
              "17.0        1\n",
              "36.0        1\n",
              "47.0        1\n",
              "38.0        1\n",
              "48.0        1\n",
              "Name: count, dtype: int64"
            ]
          },
          "metadata": {},
          "execution_count": 42
        }
      ]
    },
    {
      "cell_type": "code",
      "source": [
        "df['orig_pkts'] = pd.to_numeric(df['orig_pkts'])"
      ],
      "metadata": {
        "id": "jgS5M6xFgfRx"
      },
      "execution_count": null,
      "outputs": []
    },
    {
      "cell_type": "code",
      "source": [
        "\n",
        "\n",
        "df['orig_ip_bytes'] = pd.to_numeric(df['orig_ip_bytes'])\n",
        "\n"
      ],
      "metadata": {
        "id": "OwpaQDCXgkEE"
      },
      "execution_count": null,
      "outputs": []
    },
    {
      "cell_type": "code",
      "source": [
        "\n",
        "\n",
        "df['resp_pkts'] = pd.to_numeric(df['resp_pkts'])\n",
        "\n"
      ],
      "metadata": {
        "id": "H3bYc6chgmLC"
      },
      "execution_count": null,
      "outputs": []
    },
    {
      "cell_type": "code",
      "source": [
        "\n",
        "\n",
        "df['resp_ip_bytes'] = pd.to_numeric(df['resp_ip_bytes'])\n",
        "\n"
      ],
      "metadata": {
        "id": "WjG2iM4qgrTV"
      },
      "execution_count": null,
      "outputs": []
    },
    {
      "cell_type": "code",
      "source": [
        "\n",
        "\n",
        "df['label'].value_counts()\n",
        "\n"
      ],
      "metadata": {
        "colab": {
          "base_uri": "https://localhost:8080/"
        },
        "id": "QnjJrK74gtRH",
        "outputId": "70299373-2040-401c-cce3-6572103f6ed4"
      },
      "execution_count": null,
      "outputs": [
        {
          "output_type": "execute_result",
          "data": {
            "text/plain": [
              "label\n",
              "1    19999\n",
              "0    18876\n",
              "Name: count, dtype: int64"
            ]
          },
          "metadata": {},
          "execution_count": 47
        }
      ]
    },
    {
      "cell_type": "code",
      "source": [
        "#label encode label\n",
        "df['label']= label_encoder.fit_transform(df['label'])\n",
        "df.head()"
      ],
      "metadata": {
        "colab": {
          "base_uri": "https://localhost:8080/",
          "height": 226
        },
        "id": "YfqoFeO5gt-P",
        "outputId": "83373826-e8e4-4556-e4ef-8a51db3b7ac2"
      },
      "execution_count": null,
      "outputs": [
        {
          "output_type": "execute_result",
          "data": {
            "text/plain": [
              "             ts    uid  id.orig_h  id.orig_p  id.resp_h  id.resp_p  \\\n",
              "0  1.525949e+09  12473          7       8666      30039          4   \n",
              "1  1.525886e+09   5705          7       5355      16457      14259   \n",
              "2  1.525912e+09  10929          7      13664      33533          4   \n",
              "3  1.525919e+09   2563          7       1966      14687       4683   \n",
              "4  1.525905e+09  16840          7       2915      27915        506   \n",
              "\n",
              "   conn_state  history  orig_pkts  orig_ip_bytes  resp_pkts  resp_ip_bytes  \\\n",
              "0           5        3        1.0           60.0        0.0            0.0   \n",
              "1           5        0        1.0           40.0        0.0            0.0   \n",
              "2           5        3        1.0           60.0        0.0            0.0   \n",
              "3           5        3        1.0           60.0        0.0            0.0   \n",
              "4           5        3        1.0           60.0        0.0            0.0   \n",
              "\n",
              "   label  PartOfAHorizontalPortScan      n    tcp    udp  \n",
              "0      1                       True  False   True  False  \n",
              "1      0                      False   True  False   True  \n",
              "2      1                       True  False   True  False  \n",
              "3      0                      False   True   True  False  \n",
              "4      1                       True  False   True  False  "
            ],
            "text/html": [
              "\n",
              "  <div id=\"df-53f0521c-ed8a-4615-815e-75dbdeda5ac6\" class=\"colab-df-container\">\n",
              "    <div>\n",
              "<style scoped>\n",
              "    .dataframe tbody tr th:only-of-type {\n",
              "        vertical-align: middle;\n",
              "    }\n",
              "\n",
              "    .dataframe tbody tr th {\n",
              "        vertical-align: top;\n",
              "    }\n",
              "\n",
              "    .dataframe thead th {\n",
              "        text-align: right;\n",
              "    }\n",
              "</style>\n",
              "<table border=\"1\" class=\"dataframe\">\n",
              "  <thead>\n",
              "    <tr style=\"text-align: right;\">\n",
              "      <th></th>\n",
              "      <th>ts</th>\n",
              "      <th>uid</th>\n",
              "      <th>id.orig_h</th>\n",
              "      <th>id.orig_p</th>\n",
              "      <th>id.resp_h</th>\n",
              "      <th>id.resp_p</th>\n",
              "      <th>conn_state</th>\n",
              "      <th>history</th>\n",
              "      <th>orig_pkts</th>\n",
              "      <th>orig_ip_bytes</th>\n",
              "      <th>resp_pkts</th>\n",
              "      <th>resp_ip_bytes</th>\n",
              "      <th>label</th>\n",
              "      <th>PartOfAHorizontalPortScan</th>\n",
              "      <th>n</th>\n",
              "      <th>tcp</th>\n",
              "      <th>udp</th>\n",
              "    </tr>\n",
              "  </thead>\n",
              "  <tbody>\n",
              "    <tr>\n",
              "      <th>0</th>\n",
              "      <td>1.525949e+09</td>\n",
              "      <td>12473</td>\n",
              "      <td>7</td>\n",
              "      <td>8666</td>\n",
              "      <td>30039</td>\n",
              "      <td>4</td>\n",
              "      <td>5</td>\n",
              "      <td>3</td>\n",
              "      <td>1.0</td>\n",
              "      <td>60.0</td>\n",
              "      <td>0.0</td>\n",
              "      <td>0.0</td>\n",
              "      <td>1</td>\n",
              "      <td>True</td>\n",
              "      <td>False</td>\n",
              "      <td>True</td>\n",
              "      <td>False</td>\n",
              "    </tr>\n",
              "    <tr>\n",
              "      <th>1</th>\n",
              "      <td>1.525886e+09</td>\n",
              "      <td>5705</td>\n",
              "      <td>7</td>\n",
              "      <td>5355</td>\n",
              "      <td>16457</td>\n",
              "      <td>14259</td>\n",
              "      <td>5</td>\n",
              "      <td>0</td>\n",
              "      <td>1.0</td>\n",
              "      <td>40.0</td>\n",
              "      <td>0.0</td>\n",
              "      <td>0.0</td>\n",
              "      <td>0</td>\n",
              "      <td>False</td>\n",
              "      <td>True</td>\n",
              "      <td>False</td>\n",
              "      <td>True</td>\n",
              "    </tr>\n",
              "    <tr>\n",
              "      <th>2</th>\n",
              "      <td>1.525912e+09</td>\n",
              "      <td>10929</td>\n",
              "      <td>7</td>\n",
              "      <td>13664</td>\n",
              "      <td>33533</td>\n",
              "      <td>4</td>\n",
              "      <td>5</td>\n",
              "      <td>3</td>\n",
              "      <td>1.0</td>\n",
              "      <td>60.0</td>\n",
              "      <td>0.0</td>\n",
              "      <td>0.0</td>\n",
              "      <td>1</td>\n",
              "      <td>True</td>\n",
              "      <td>False</td>\n",
              "      <td>True</td>\n",
              "      <td>False</td>\n",
              "    </tr>\n",
              "    <tr>\n",
              "      <th>3</th>\n",
              "      <td>1.525919e+09</td>\n",
              "      <td>2563</td>\n",
              "      <td>7</td>\n",
              "      <td>1966</td>\n",
              "      <td>14687</td>\n",
              "      <td>4683</td>\n",
              "      <td>5</td>\n",
              "      <td>3</td>\n",
              "      <td>1.0</td>\n",
              "      <td>60.0</td>\n",
              "      <td>0.0</td>\n",
              "      <td>0.0</td>\n",
              "      <td>0</td>\n",
              "      <td>False</td>\n",
              "      <td>True</td>\n",
              "      <td>True</td>\n",
              "      <td>False</td>\n",
              "    </tr>\n",
              "    <tr>\n",
              "      <th>4</th>\n",
              "      <td>1.525905e+09</td>\n",
              "      <td>16840</td>\n",
              "      <td>7</td>\n",
              "      <td>2915</td>\n",
              "      <td>27915</td>\n",
              "      <td>506</td>\n",
              "      <td>5</td>\n",
              "      <td>3</td>\n",
              "      <td>1.0</td>\n",
              "      <td>60.0</td>\n",
              "      <td>0.0</td>\n",
              "      <td>0.0</td>\n",
              "      <td>1</td>\n",
              "      <td>True</td>\n",
              "      <td>False</td>\n",
              "      <td>True</td>\n",
              "      <td>False</td>\n",
              "    </tr>\n",
              "  </tbody>\n",
              "</table>\n",
              "</div>\n",
              "    <div class=\"colab-df-buttons\">\n",
              "\n",
              "  <div class=\"colab-df-container\">\n",
              "    <button class=\"colab-df-convert\" onclick=\"convertToInteractive('df-53f0521c-ed8a-4615-815e-75dbdeda5ac6')\"\n",
              "            title=\"Convert this dataframe to an interactive table.\"\n",
              "            style=\"display:none;\">\n",
              "\n",
              "  <svg xmlns=\"http://www.w3.org/2000/svg\" height=\"24px\" viewBox=\"0 -960 960 960\">\n",
              "    <path d=\"M120-120v-720h720v720H120Zm60-500h600v-160H180v160Zm220 220h160v-160H400v160Zm0 220h160v-160H400v160ZM180-400h160v-160H180v160Zm440 0h160v-160H620v160ZM180-180h160v-160H180v160Zm440 0h160v-160H620v160Z\"/>\n",
              "  </svg>\n",
              "    </button>\n",
              "\n",
              "  <style>\n",
              "    .colab-df-container {\n",
              "      display:flex;\n",
              "      gap: 12px;\n",
              "    }\n",
              "\n",
              "    .colab-df-convert {\n",
              "      background-color: #E8F0FE;\n",
              "      border: none;\n",
              "      border-radius: 50%;\n",
              "      cursor: pointer;\n",
              "      display: none;\n",
              "      fill: #1967D2;\n",
              "      height: 32px;\n",
              "      padding: 0 0 0 0;\n",
              "      width: 32px;\n",
              "    }\n",
              "\n",
              "    .colab-df-convert:hover {\n",
              "      background-color: #E2EBFA;\n",
              "      box-shadow: 0px 1px 2px rgba(60, 64, 67, 0.3), 0px 1px 3px 1px rgba(60, 64, 67, 0.15);\n",
              "      fill: #174EA6;\n",
              "    }\n",
              "\n",
              "    .colab-df-buttons div {\n",
              "      margin-bottom: 4px;\n",
              "    }\n",
              "\n",
              "    [theme=dark] .colab-df-convert {\n",
              "      background-color: #3B4455;\n",
              "      fill: #D2E3FC;\n",
              "    }\n",
              "\n",
              "    [theme=dark] .colab-df-convert:hover {\n",
              "      background-color: #434B5C;\n",
              "      box-shadow: 0px 1px 3px 1px rgba(0, 0, 0, 0.15);\n",
              "      filter: drop-shadow(0px 1px 2px rgba(0, 0, 0, 0.3));\n",
              "      fill: #FFFFFF;\n",
              "    }\n",
              "  </style>\n",
              "\n",
              "    <script>\n",
              "      const buttonEl =\n",
              "        document.querySelector('#df-53f0521c-ed8a-4615-815e-75dbdeda5ac6 button.colab-df-convert');\n",
              "      buttonEl.style.display =\n",
              "        google.colab.kernel.accessAllowed ? 'block' : 'none';\n",
              "\n",
              "      async function convertToInteractive(key) {\n",
              "        const element = document.querySelector('#df-53f0521c-ed8a-4615-815e-75dbdeda5ac6');\n",
              "        const dataTable =\n",
              "          await google.colab.kernel.invokeFunction('convertToInteractive',\n",
              "                                                    [key], {});\n",
              "        if (!dataTable) return;\n",
              "\n",
              "        const docLinkHtml = 'Like what you see? Visit the ' +\n",
              "          '<a target=\"_blank\" href=https://colab.research.google.com/notebooks/data_table.ipynb>data table notebook</a>'\n",
              "          + ' to learn more about interactive tables.';\n",
              "        element.innerHTML = '';\n",
              "        dataTable['output_type'] = 'display_data';\n",
              "        await google.colab.output.renderOutput(dataTable, element);\n",
              "        const docLink = document.createElement('div');\n",
              "        docLink.innerHTML = docLinkHtml;\n",
              "        element.appendChild(docLink);\n",
              "      }\n",
              "    </script>\n",
              "  </div>\n",
              "\n",
              "\n",
              "<div id=\"df-5bd1d706-e2af-4170-962d-77c010f42d8a\">\n",
              "  <button class=\"colab-df-quickchart\" onclick=\"quickchart('df-5bd1d706-e2af-4170-962d-77c010f42d8a')\"\n",
              "            title=\"Suggest charts\"\n",
              "            style=\"display:none;\">\n",
              "\n",
              "<svg xmlns=\"http://www.w3.org/2000/svg\" height=\"24px\"viewBox=\"0 0 24 24\"\n",
              "     width=\"24px\">\n",
              "    <g>\n",
              "        <path d=\"M19 3H5c-1.1 0-2 .9-2 2v14c0 1.1.9 2 2 2h14c1.1 0 2-.9 2-2V5c0-1.1-.9-2-2-2zM9 17H7v-7h2v7zm4 0h-2V7h2v10zm4 0h-2v-4h2v4z\"/>\n",
              "    </g>\n",
              "</svg>\n",
              "  </button>\n",
              "\n",
              "<style>\n",
              "  .colab-df-quickchart {\n",
              "      --bg-color: #E8F0FE;\n",
              "      --fill-color: #1967D2;\n",
              "      --hover-bg-color: #E2EBFA;\n",
              "      --hover-fill-color: #174EA6;\n",
              "      --disabled-fill-color: #AAA;\n",
              "      --disabled-bg-color: #DDD;\n",
              "  }\n",
              "\n",
              "  [theme=dark] .colab-df-quickchart {\n",
              "      --bg-color: #3B4455;\n",
              "      --fill-color: #D2E3FC;\n",
              "      --hover-bg-color: #434B5C;\n",
              "      --hover-fill-color: #FFFFFF;\n",
              "      --disabled-bg-color: #3B4455;\n",
              "      --disabled-fill-color: #666;\n",
              "  }\n",
              "\n",
              "  .colab-df-quickchart {\n",
              "    background-color: var(--bg-color);\n",
              "    border: none;\n",
              "    border-radius: 50%;\n",
              "    cursor: pointer;\n",
              "    display: none;\n",
              "    fill: var(--fill-color);\n",
              "    height: 32px;\n",
              "    padding: 0;\n",
              "    width: 32px;\n",
              "  }\n",
              "\n",
              "  .colab-df-quickchart:hover {\n",
              "    background-color: var(--hover-bg-color);\n",
              "    box-shadow: 0 1px 2px rgba(60, 64, 67, 0.3), 0 1px 3px 1px rgba(60, 64, 67, 0.15);\n",
              "    fill: var(--button-hover-fill-color);\n",
              "  }\n",
              "\n",
              "  .colab-df-quickchart-complete:disabled,\n",
              "  .colab-df-quickchart-complete:disabled:hover {\n",
              "    background-color: var(--disabled-bg-color);\n",
              "    fill: var(--disabled-fill-color);\n",
              "    box-shadow: none;\n",
              "  }\n",
              "\n",
              "  .colab-df-spinner {\n",
              "    border: 2px solid var(--fill-color);\n",
              "    border-color: transparent;\n",
              "    border-bottom-color: var(--fill-color);\n",
              "    animation:\n",
              "      spin 1s steps(1) infinite;\n",
              "  }\n",
              "\n",
              "  @keyframes spin {\n",
              "    0% {\n",
              "      border-color: transparent;\n",
              "      border-bottom-color: var(--fill-color);\n",
              "      border-left-color: var(--fill-color);\n",
              "    }\n",
              "    20% {\n",
              "      border-color: transparent;\n",
              "      border-left-color: var(--fill-color);\n",
              "      border-top-color: var(--fill-color);\n",
              "    }\n",
              "    30% {\n",
              "      border-color: transparent;\n",
              "      border-left-color: var(--fill-color);\n",
              "      border-top-color: var(--fill-color);\n",
              "      border-right-color: var(--fill-color);\n",
              "    }\n",
              "    40% {\n",
              "      border-color: transparent;\n",
              "      border-right-color: var(--fill-color);\n",
              "      border-top-color: var(--fill-color);\n",
              "    }\n",
              "    60% {\n",
              "      border-color: transparent;\n",
              "      border-right-color: var(--fill-color);\n",
              "    }\n",
              "    80% {\n",
              "      border-color: transparent;\n",
              "      border-right-color: var(--fill-color);\n",
              "      border-bottom-color: var(--fill-color);\n",
              "    }\n",
              "    90% {\n",
              "      border-color: transparent;\n",
              "      border-bottom-color: var(--fill-color);\n",
              "    }\n",
              "  }\n",
              "</style>\n",
              "\n",
              "  <script>\n",
              "    async function quickchart(key) {\n",
              "      const quickchartButtonEl =\n",
              "        document.querySelector('#' + key + ' button');\n",
              "      quickchartButtonEl.disabled = true;  // To prevent multiple clicks.\n",
              "      quickchartButtonEl.classList.add('colab-df-spinner');\n",
              "      try {\n",
              "        const charts = await google.colab.kernel.invokeFunction(\n",
              "            'suggestCharts', [key], {});\n",
              "      } catch (error) {\n",
              "        console.error('Error during call to suggestCharts:', error);\n",
              "      }\n",
              "      quickchartButtonEl.classList.remove('colab-df-spinner');\n",
              "      quickchartButtonEl.classList.add('colab-df-quickchart-complete');\n",
              "    }\n",
              "    (() => {\n",
              "      let quickchartButtonEl =\n",
              "        document.querySelector('#df-5bd1d706-e2af-4170-962d-77c010f42d8a button');\n",
              "      quickchartButtonEl.style.display =\n",
              "        google.colab.kernel.accessAllowed ? 'block' : 'none';\n",
              "    })();\n",
              "  </script>\n",
              "</div>\n",
              "    </div>\n",
              "  </div>\n"
            ],
            "application/vnd.google.colaboratory.intrinsic+json": {
              "type": "dataframe",
              "variable_name": "df",
              "summary": "{\n  \"name\": \"df\",\n  \"rows\": 38875,\n  \"fields\": [\n    {\n      \"column\": \"ts\",\n      \"properties\": {\n        \"dtype\": \"number\",\n        \"std\": 37055.44374314629,\n        \"min\": 1525879832.044975,\n        \"max\": 1526007184.008758,\n        \"num_unique_values\": 36679,\n        \"samples\": [\n          1525909082.013782,\n          1525967246.009872,\n          1525924930.00275\n        ],\n        \"semantic_type\": \"\",\n        \"description\": \"\"\n      }\n    },\n    {\n      \"column\": \"uid\",\n      \"properties\": {\n        \"dtype\": \"number\",\n        \"std\": 10587,\n        \"min\": 0,\n        \"max\": 36678,\n        \"num_unique_values\": 36679,\n        \"samples\": [\n          26993,\n          3317,\n          32342\n        ],\n        \"semantic_type\": \"\",\n        \"description\": \"\"\n      }\n    },\n    {\n      \"column\": \"id.orig_h\",\n      \"properties\": {\n        \"dtype\": \"number\",\n        \"std\": 0,\n        \"min\": 0,\n        \"max\": 11,\n        \"num_unique_values\": 12,\n        \"samples\": [\n          11,\n          6,\n          7\n        ],\n        \"semantic_type\": \"\",\n        \"description\": \"\"\n      }\n    },\n    {\n      \"column\": \"id.orig_p\",\n      \"properties\": {\n        \"dtype\": \"number\",\n        \"std\": 3160,\n        \"min\": 0,\n        \"max\": 13754,\n        \"num_unique_values\": 13755,\n        \"samples\": [\n          3206,\n          6945,\n          10778\n        ],\n        \"semantic_type\": \"\",\n        \"description\": \"\"\n      }\n    },\n    {\n      \"column\": \"id.resp_h\",\n      \"properties\": {\n        \"dtype\": \"number\",\n        \"std\": 9771,\n        \"min\": 0,\n        \"max\": 33856,\n        \"num_unique_values\": 33857,\n        \"samples\": [\n          2212,\n          7515,\n          10369\n        ],\n        \"semantic_type\": \"\",\n        \"description\": \"\"\n      }\n    },\n    {\n      \"column\": \"id.resp_p\",\n      \"properties\": {\n        \"dtype\": \"number\",\n        \"std\": 4541,\n        \"min\": 0,\n        \"max\": 14987,\n        \"num_unique_values\": 14988,\n        \"samples\": [\n          6805,\n          14852,\n          5148\n        ],\n        \"semantic_type\": \"\",\n        \"description\": \"\"\n      }\n    },\n    {\n      \"column\": \"conn_state\",\n      \"properties\": {\n        \"dtype\": \"number\",\n        \"std\": 0,\n        \"min\": 0,\n        \"max\": 8,\n        \"num_unique_values\": 9,\n        \"samples\": [\n          7,\n          8,\n          2\n        ],\n        \"semantic_type\": \"\",\n        \"description\": \"\"\n      }\n    },\n    {\n      \"column\": \"history\",\n      \"properties\": {\n        \"dtype\": \"number\",\n        \"std\": 3,\n        \"min\": 0,\n        \"max\": 38,\n        \"num_unique_values\": 39,\n        \"samples\": [\n          11,\n          17,\n          10\n        ],\n        \"semantic_type\": \"\",\n        \"description\": \"\"\n      }\n    },\n    {\n      \"column\": \"orig_pkts\",\n      \"properties\": {\n        \"dtype\": \"number\",\n        \"std\": 2.32863461629393,\n        \"min\": 0.0,\n        \"max\": 60.0,\n        \"num_unique_values\": 44,\n        \"samples\": [\n          0.0,\n          8.0,\n          14.0\n        ],\n        \"semantic_type\": \"\",\n        \"description\": \"\"\n      }\n    },\n    {\n      \"column\": \"orig_ip_bytes\",\n      \"properties\": {\n        \"dtype\": \"number\",\n        \"std\": 123.34687683577765,\n        \"min\": 0.0,\n        \"max\": 2621.0,\n        \"num_unique_values\": 225,\n        \"samples\": [\n          1033.0,\n          1521.0,\n          1268.0\n        ],\n        \"semantic_type\": \"\",\n        \"description\": \"\"\n      }\n    },\n    {\n      \"column\": \"resp_pkts\",\n      \"properties\": {\n        \"dtype\": \"number\",\n        \"std\": 2.5714693132190867,\n        \"min\": 0.0,\n        \"max\": 75.0,\n        \"num_unique_values\": 50,\n        \"samples\": [\n          26.0,\n          16.0,\n          58.0\n        ],\n        \"semantic_type\": \"\",\n        \"description\": \"\"\n      }\n    },\n    {\n      \"column\": \"resp_ip_bytes\",\n      \"properties\": {\n        \"dtype\": \"number\",\n        \"std\": 167.38353914239244,\n        \"min\": 0.0,\n        \"max\": 4571.0,\n        \"num_unique_values\": 197,\n        \"samples\": [\n          1521.0,\n          1515.0,\n          2195.0\n        ],\n        \"semantic_type\": \"\",\n        \"description\": \"\"\n      }\n    },\n    {\n      \"column\": \"label\",\n      \"properties\": {\n        \"dtype\": \"number\",\n        \"std\": 0,\n        \"min\": 0,\n        \"max\": 1,\n        \"num_unique_values\": 2,\n        \"samples\": [\n          0,\n          1\n        ],\n        \"semantic_type\": \"\",\n        \"description\": \"\"\n      }\n    },\n    {\n      \"column\": \"PartOfAHorizontalPortScan\",\n      \"properties\": {\n        \"dtype\": \"boolean\",\n        \"num_unique_values\": 2,\n        \"samples\": [\n          false,\n          true\n        ],\n        \"semantic_type\": \"\",\n        \"description\": \"\"\n      }\n    },\n    {\n      \"column\": \"n\",\n      \"properties\": {\n        \"dtype\": \"boolean\",\n        \"num_unique_values\": 2,\n        \"samples\": [\n          true,\n          false\n        ],\n        \"semantic_type\": \"\",\n        \"description\": \"\"\n      }\n    },\n    {\n      \"column\": \"tcp\",\n      \"properties\": {\n        \"dtype\": \"boolean\",\n        \"num_unique_values\": 2,\n        \"samples\": [\n          false,\n          true\n        ],\n        \"semantic_type\": \"\",\n        \"description\": \"\"\n      }\n    },\n    {\n      \"column\": \"udp\",\n      \"properties\": {\n        \"dtype\": \"boolean\",\n        \"num_unique_values\": 2,\n        \"samples\": [\n          true,\n          false\n        ],\n        \"semantic_type\": \"\",\n        \"description\": \"\"\n      }\n    }\n  ]\n}"
            }
          },
          "metadata": {},
          "execution_count": 48
        }
      ]
    },
    {
      "cell_type": "code",
      "source": [
        "\n",
        "\n",
        "from sklearn.model_selection import train_test_split\n",
        "\n",
        "X = df.drop('label', axis=1)\n",
        "y = df['label']\n",
        "\n",
        "# Split the DataFrame into X and y\n",
        "X_train, X_test, y_train, y_test = train_test_split(X, y, test_size=0.2, random_state=42)\n",
        "y_train.head()\n",
        "y_train.value_counts()\n",
        "\n"
      ],
      "metadata": {
        "colab": {
          "base_uri": "https://localhost:8080/"
        },
        "id": "CvGPqR46gwab",
        "outputId": "35eda71d-31da-4740-8915-ecc2118d837a"
      },
      "execution_count": null,
      "outputs": [
        {
          "output_type": "execute_result",
          "data": {
            "text/plain": [
              "label\n",
              "1    16000\n",
              "0    15100\n",
              "Name: count, dtype: int64"
            ]
          },
          "metadata": {},
          "execution_count": 49
        }
      ]
    },
    {
      "cell_type": "code",
      "source": [
        "from sklearn.preprocessing import Normalizer\n",
        "\n",
        "scaler = Normalizer()\n",
        "X_train_scaled = scaler.fit_transform(X_train)\n",
        "X_test_scaled = scaler.transform(X_test)"
      ],
      "metadata": {
        "id": "lVJy32R2g9Yn"
      },
      "execution_count": null,
      "outputs": []
    },
    {
      "cell_type": "code",
      "source": [
        "from sklearn.svm import SVC\n",
        "from sklearn.metrics import classification_report, accuracy_score"
      ],
      "metadata": {
        "id": "ovo-l-a9hALM"
      },
      "execution_count": null,
      "outputs": []
    },
    {
      "cell_type": "code",
      "source": [
        "#from sklearn.model_selection import GridSearchCV\n",
        "#from sklearn.svm import SVC\n",
        "\n",
        "# # Assuming you have X_train_scaled, y_train defined\n",
        "\n",
        "# # Define the hyperparameter grid\n",
        "#param_grid = {'C': [0.001,0.01,0.1, 1, 10], 'kernel': ['linear']}\n",
        "\n",
        "# # Create the GridSearchCV object\n",
        "#grid_search = GridSearchCV(SVC(gamma='scale'), param_grid, cv=5)\n",
        "#grid_search.fit(X_train_scaled, y_train)\n",
        "\n",
        "# # Get the best hyperparameters\n",
        "#best_params = grid_search.best_params_\n",
        "\n",
        "# # Create a new model with the best hyperparameters\n",
        "#svm_model = SVC(kernel=best_params['kernel'], C=best_params['C'], gamma='scale')\n",
        "#svm_model.fit(X_train_scaled, y_train)"
      ],
      "metadata": {
        "id": "kO4oXQ76hC7n"
      },
      "execution_count": null,
      "outputs": []
    },
    {
      "cell_type": "code",
      "source": [
        "svm_model = SVC(kernel='linear', C=0.001, gamma='scale')\n",
        "svm_model.fit(X_train_scaled,y_train)"
      ],
      "metadata": {
        "colab": {
          "base_uri": "https://localhost:8080/",
          "height": 75
        },
        "id": "lFy8CnkFh5Hl",
        "outputId": "cb28908a-06aa-44d1-a2e7-f85f1bf4fc36"
      },
      "execution_count": null,
      "outputs": [
        {
          "output_type": "execute_result",
          "data": {
            "text/plain": [
              "SVC(C=0.001, kernel='linear')"
            ],
            "text/html": [
              "<style>#sk-container-id-1 {color: black;background-color: white;}#sk-container-id-1 pre{padding: 0;}#sk-container-id-1 div.sk-toggleable {background-color: white;}#sk-container-id-1 label.sk-toggleable__label {cursor: pointer;display: block;width: 100%;margin-bottom: 0;padding: 0.3em;box-sizing: border-box;text-align: center;}#sk-container-id-1 label.sk-toggleable__label-arrow:before {content: \"▸\";float: left;margin-right: 0.25em;color: #696969;}#sk-container-id-1 label.sk-toggleable__label-arrow:hover:before {color: black;}#sk-container-id-1 div.sk-estimator:hover label.sk-toggleable__label-arrow:before {color: black;}#sk-container-id-1 div.sk-toggleable__content {max-height: 0;max-width: 0;overflow: hidden;text-align: left;background-color: #f0f8ff;}#sk-container-id-1 div.sk-toggleable__content pre {margin: 0.2em;color: black;border-radius: 0.25em;background-color: #f0f8ff;}#sk-container-id-1 input.sk-toggleable__control:checked~div.sk-toggleable__content {max-height: 200px;max-width: 100%;overflow: auto;}#sk-container-id-1 input.sk-toggleable__control:checked~label.sk-toggleable__label-arrow:before {content: \"▾\";}#sk-container-id-1 div.sk-estimator input.sk-toggleable__control:checked~label.sk-toggleable__label {background-color: #d4ebff;}#sk-container-id-1 div.sk-label input.sk-toggleable__control:checked~label.sk-toggleable__label {background-color: #d4ebff;}#sk-container-id-1 input.sk-hidden--visually {border: 0;clip: rect(1px 1px 1px 1px);clip: rect(1px, 1px, 1px, 1px);height: 1px;margin: -1px;overflow: hidden;padding: 0;position: absolute;width: 1px;}#sk-container-id-1 div.sk-estimator {font-family: monospace;background-color: #f0f8ff;border: 1px dotted black;border-radius: 0.25em;box-sizing: border-box;margin-bottom: 0.5em;}#sk-container-id-1 div.sk-estimator:hover {background-color: #d4ebff;}#sk-container-id-1 div.sk-parallel-item::after {content: \"\";width: 100%;border-bottom: 1px solid gray;flex-grow: 1;}#sk-container-id-1 div.sk-label:hover label.sk-toggleable__label {background-color: #d4ebff;}#sk-container-id-1 div.sk-serial::before {content: \"\";position: absolute;border-left: 1px solid gray;box-sizing: border-box;top: 0;bottom: 0;left: 50%;z-index: 0;}#sk-container-id-1 div.sk-serial {display: flex;flex-direction: column;align-items: center;background-color: white;padding-right: 0.2em;padding-left: 0.2em;position: relative;}#sk-container-id-1 div.sk-item {position: relative;z-index: 1;}#sk-container-id-1 div.sk-parallel {display: flex;align-items: stretch;justify-content: center;background-color: white;position: relative;}#sk-container-id-1 div.sk-item::before, #sk-container-id-1 div.sk-parallel-item::before {content: \"\";position: absolute;border-left: 1px solid gray;box-sizing: border-box;top: 0;bottom: 0;left: 50%;z-index: -1;}#sk-container-id-1 div.sk-parallel-item {display: flex;flex-direction: column;z-index: 1;position: relative;background-color: white;}#sk-container-id-1 div.sk-parallel-item:first-child::after {align-self: flex-end;width: 50%;}#sk-container-id-1 div.sk-parallel-item:last-child::after {align-self: flex-start;width: 50%;}#sk-container-id-1 div.sk-parallel-item:only-child::after {width: 0;}#sk-container-id-1 div.sk-dashed-wrapped {border: 1px dashed gray;margin: 0 0.4em 0.5em 0.4em;box-sizing: border-box;padding-bottom: 0.4em;background-color: white;}#sk-container-id-1 div.sk-label label {font-family: monospace;font-weight: bold;display: inline-block;line-height: 1.2em;}#sk-container-id-1 div.sk-label-container {text-align: center;}#sk-container-id-1 div.sk-container {/* jupyter's `normalize.less` sets `[hidden] { display: none; }` but bootstrap.min.css set `[hidden] { display: none !important; }` so we also need the `!important` here to be able to override the default hidden behavior on the sphinx rendered scikit-learn.org. See: https://github.com/scikit-learn/scikit-learn/issues/21755 */display: inline-block !important;position: relative;}#sk-container-id-1 div.sk-text-repr-fallback {display: none;}</style><div id=\"sk-container-id-1\" class=\"sk-top-container\"><div class=\"sk-text-repr-fallback\"><pre>SVC(C=0.001, kernel=&#x27;linear&#x27;)</pre><b>In a Jupyter environment, please rerun this cell to show the HTML representation or trust the notebook. <br />On GitHub, the HTML representation is unable to render, please try loading this page with nbviewer.org.</b></div><div class=\"sk-container\" hidden><div class=\"sk-item\"><div class=\"sk-estimator sk-toggleable\"><input class=\"sk-toggleable__control sk-hidden--visually\" id=\"sk-estimator-id-1\" type=\"checkbox\" checked><label for=\"sk-estimator-id-1\" class=\"sk-toggleable__label sk-toggleable__label-arrow\">SVC</label><div class=\"sk-toggleable__content\"><pre>SVC(C=0.001, kernel=&#x27;linear&#x27;)</pre></div></div></div></div></div>"
            ]
          },
          "metadata": {},
          "execution_count": 53
        }
      ]
    },
    {
      "cell_type": "code",
      "source": [
        "# Make predictions on the test set\n",
        "y_pred = svm_model.predict(X_test)"
      ],
      "metadata": {
        "colab": {
          "base_uri": "https://localhost:8080/"
        },
        "id": "Ie0EQnIdh9yC",
        "outputId": "93806322-537c-4628-e64a-87e6872918aa"
      },
      "execution_count": null,
      "outputs": [
        {
          "output_type": "stream",
          "name": "stderr",
          "text": [
            "/usr/local/lib/python3.10/dist-packages/sklearn/base.py:432: UserWarning: X has feature names, but SVC was fitted without feature names\n",
            "  warnings.warn(\n"
          ]
        }
      ]
    },
    {
      "cell_type": "code",
      "source": [
        "from google.colab import drive\n",
        "drive.mount('/content/drive')"
      ],
      "metadata": {
        "id": "6akNkUqfD3gW",
        "colab": {
          "base_uri": "https://localhost:8080/"
        },
        "outputId": "903877d9-c4e8-49c1-ce73-778d212f1a11"
      },
      "execution_count": null,
      "outputs": [
        {
          "output_type": "stream",
          "name": "stdout",
          "text": [
            "Mounted at /content/drive\n"
          ]
        }
      ]
    },
    {
      "cell_type": "code",
      "source": [
        "# Evaluate the model\n",
        "accuracy = accuracy_score(y_test, y_pred)\n",
        "report = classification_report(y_test, y_pred)\n",
        "\n",
        "print(f\"Accuracy: {accuracy}\")\n",
        "print(f\"Classification Report:\\n{report}\")"
      ],
      "metadata": {
        "colab": {
          "base_uri": "https://localhost:8080/"
        },
        "id": "Je0rEfeCjMex",
        "outputId": "e5edcb60-7250-458d-fa48-6bb1802df342"
      },
      "execution_count": null,
      "outputs": [
        {
          "output_type": "stream",
          "name": "stdout",
          "text": [
            "Accuracy: 0.5143408360128617\n",
            "Classification Report:\n",
            "              precision    recall  f1-score   support\n",
            "\n",
            "           0       0.00      0.00      0.00      3776\n",
            "           1       0.51      1.00      0.68      3999\n",
            "\n",
            "    accuracy                           0.51      7775\n",
            "   macro avg       0.26      0.50      0.34      7775\n",
            "weighted avg       0.26      0.51      0.35      7775\n",
            "\n"
          ]
        },
        {
          "output_type": "stream",
          "name": "stderr",
          "text": [
            "/usr/local/lib/python3.10/dist-packages/sklearn/metrics/_classification.py:1344: UndefinedMetricWarning: Precision and F-score are ill-defined and being set to 0.0 in labels with no predicted samples. Use `zero_division` parameter to control this behavior.\n",
            "  _warn_prf(average, modifier, msg_start, len(result))\n",
            "/usr/local/lib/python3.10/dist-packages/sklearn/metrics/_classification.py:1344: UndefinedMetricWarning: Precision and F-score are ill-defined and being set to 0.0 in labels with no predicted samples. Use `zero_division` parameter to control this behavior.\n",
            "  _warn_prf(average, modifier, msg_start, len(result))\n",
            "/usr/local/lib/python3.10/dist-packages/sklearn/metrics/_classification.py:1344: UndefinedMetricWarning: Precision and F-score are ill-defined and being set to 0.0 in labels with no predicted samples. Use `zero_division` parameter to control this behavior.\n",
            "  _warn_prf(average, modifier, msg_start, len(result))\n"
          ]
        }
      ]
    },
    {
      "cell_type": "code",
      "source": [],
      "metadata": {
        "id": "P2Dn3E-qjNTi"
      },
      "execution_count": null,
      "outputs": []
    }
  ]
}